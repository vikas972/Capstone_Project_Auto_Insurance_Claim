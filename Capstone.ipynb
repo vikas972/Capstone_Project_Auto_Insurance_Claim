{
 "cells": [
  {
   "cell_type": "markdown",
   "metadata": {},
   "source": [
    "# Exploratory Data Analysis:"
   ]
  },
  {
   "cell_type": "markdown",
   "metadata": {},
   "source": [
    "### Importing Libraries for the Project"
   ]
  },
  {
   "cell_type": "code",
   "execution_count": 2,
   "metadata": {},
   "outputs": [],
   "source": [
    "import numpy as np                  # Manupulation of Multidimensional array and matrix\n",
    "import matplotlib.pyplot as plt     # For Visualisation\n",
    "import pandas as pd                 # Loading Dataset and Manupulation\n",
    "import seaborn as sns               #Plotting more attracting graphs and chart\n",
    "from numpy import array \n",
    "\n",
    "#For Upsampling to reduce Imbalance in dataset\n",
    "from imblearn.over_sampling import SMOTE\n",
    "from sklearn.utils import resample\n",
    "\n",
    "#For Encoding The Data\n",
    "from sklearn.preprocessing import OneHotEncoder,StandardScaler\n",
    "\n",
    "#For Performing the Logistic Regression\n",
    "from sklearn.linear_model import LogisticRegression\n",
    "\n",
    "#For getting the F-1 score,Precision,recall etc.\n",
    "from sklearn.metrics import classification_report\n",
    "\n",
    "#For getting the Confusion Matrix,Accuracy of the Model,Loss etc.\n",
    "from sklearn.metrics import confusion_matrix,mean_squared_error,accuracy_score\n",
    "from sklearn.metrics import precision_score,recall_score,roc_auc_score,f1_score,cohen_kappa_score\n",
    "\n",
    "#For Splitting the Dataset into train-test and Performing Cross Validation Score\n",
    "from sklearn.model_selection import train_test_split,cross_val_score, KFold\n",
    "\n",
    "#For Performing HyperParameter Tuning\n",
    "from sklearn.model_selection import RandomizedSearchCV, GridSearchCV\n",
    "\n",
    "#For Performing Support Vector Machine\n",
    "from sklearn.svm import SVC,LinearSVC\n",
    "\n",
    "#For Performing XGBOOST Classifier Algorithm\n",
    "from xgboost import XGBClassifier\n",
    "import xgboost as xgb\n",
    "\n",
    "#For Performing Random Forest Classifier to find top features\n",
    "from sklearn.ensemble import RandomForestClassifier\n",
    "\n",
    "#For Performing Adaboost Classifier Algorithm\n",
    "from sklearn.ensemble import AdaBoostClassifier\n",
    "\n",
    "#For Performing MLP Classifier i.e. Neural Network\n",
    "from sklearn.neural_network import MLPClassifier\n",
    "\n",
    "#For deploying model and Building Web Application\n",
    "from flask import Flask, render_template, request\n",
    "from werkzeug.wrappers import Request, Response\n",
    "\n",
    "#To save the model\n",
    "import pickle"
   ]
  },
  {
   "cell_type": "code",
   "execution_count": null,
   "metadata": {},
   "outputs": [],
   "source": [
    "#Links used to build the Capstone\n",
    "\n",
    "# Blog to Handle Missing Value in Dataset\n",
    "# https://analyticsindiamag.com/5-ways-handle-missing-values-machine-learning-datasets/#:~:text=%205%20Ways%20To%20Handle%20Missing%20Values%20In,not%20have%20missing%20values%2C%20we%20can...%20More%20\n",
    "\n",
    "# Best blog to understand One Hot Encoding\n",
    "# https://machinelearningmastery.com/how-to-one-hot-encode-sequence-data-in-python/#:~:text=A%20one%20hot%20encoding%20is%20a%20representation%20of,Let%E2%80%99s%20make%20this%20concrete%20with%20a%20worked%20example.\n",
    "\n",
    "# Blog For Classification Report\n",
    "# https://www.scikit-yb.org/en/latest/api/classifier/classification_report.html\n",
    "\n",
    "# Blog For Smote Sampling\n",
    "# https://www.kite.com/blog/python/smote-python-imbalanced-learn-for-oversampling/\n",
    "\n",
    "# Blog for MLP Classifier\n",
    "# https://www.python-machinelearning.com/scikit-learn-multi-layer-perceptron-mlp-classifier/\n",
    "\n",
    "# Blog for Logistic Regression\n",
    "# https://realpython.com/logistic-regression-python/#:~:text=%20Logistic%20Regression%20in%20Python%20With%20StatsModels%3A%20Example,...%20The%20obtained%20array%20contains%20the...%20More%20\n",
    "\n",
    "# Blog for Normalization and Standard Scalar\n",
    "# https://machinelearningmastery.com/standardscaler-and-minmaxscaler-transforms-in-python/\n",
    "\n",
    "# Blog for EDA\n",
    "# https://towardsdatascience.com/eda-exploratory-data-analysis-to-get-more-insight-into-the-data-b2fb74dabb82\n",
    "\n",
    "# Blog for XGBoost\n",
    "# https://xgboost.readthedocs.io/en/latest/python/python_api.html\n",
    "\n",
    "# Blog for AdaBoost\n",
    "# https://www.datacamp.com/community/tutorials/adaboost-classifier-python\n",
    "\n",
    "# Blog for SVC\n",
    "# https://www.edureka.co/blog/support-vector-machine-in-python/"
   ]
  },
  {
   "cell_type": "code",
   "execution_count": null,
   "metadata": {},
   "outputs": [],
   "source": []
  },
  {
   "cell_type": "markdown",
   "metadata": {},
   "source": [
    "\n"
   ]
  },
  {
   "cell_type": "code",
   "execution_count": 3,
   "metadata": {},
   "outputs": [],
   "source": [
    "#Loading the Dataset\n",
    "data=pd.read_csv(\"train.csv\")"
   ]
  },
  {
   "cell_type": "code",
   "execution_count": 33,
   "metadata": {},
   "outputs": [
    {
     "name": "stdout",
     "output_type": "stream",
     "text": [
      "Index(['id', 'target', 'ps_ind_01', 'ps_ind_02_cat', 'ps_ind_03',\n",
      "       'ps_ind_04_cat', 'ps_ind_05_cat', 'ps_ind_06_bin', 'ps_ind_07_bin',\n",
      "       'ps_ind_08_bin', 'ps_ind_09_bin', 'ps_ind_10_bin', 'ps_ind_11_bin',\n",
      "       'ps_ind_12_bin', 'ps_ind_13_bin', 'ps_ind_14', 'ps_ind_15',\n",
      "       'ps_ind_16_bin', 'ps_ind_17_bin', 'ps_ind_18_bin', 'ps_reg_01',\n",
      "       'ps_reg_02', 'ps_reg_03', 'ps_car_01_cat', 'ps_car_02_cat',\n",
      "       'ps_car_03_cat', 'ps_car_04_cat', 'ps_car_05_cat', 'ps_car_06_cat',\n",
      "       'ps_car_07_cat', 'ps_car_08_cat', 'ps_car_09_cat', 'ps_car_10_cat',\n",
      "       'ps_car_11_cat', 'ps_car_11', 'ps_car_12', 'ps_car_13', 'ps_car_14',\n",
      "       'ps_car_15', 'ps_calc_01', 'ps_calc_02', 'ps_calc_03', 'ps_calc_04',\n",
      "       'ps_calc_05', 'ps_calc_06', 'ps_calc_07', 'ps_calc_08', 'ps_calc_09',\n",
      "       'ps_calc_10', 'ps_calc_11', 'ps_calc_12', 'ps_calc_13', 'ps_calc_14',\n",
      "       'ps_calc_15_bin', 'ps_calc_16_bin', 'ps_calc_17_bin', 'ps_calc_18_bin',\n",
      "       'ps_calc_19_bin', 'ps_calc_20_bin'],\n",
      "      dtype='object')\n"
     ]
    }
   ],
   "source": [
    "#printing the Columns from Dataset\n",
    "print(data.columns)"
   ]
  },
  {
   "cell_type": "code",
   "execution_count": 4,
   "metadata": {},
   "outputs": [],
   "source": [
    "#Printing the first 5 rows of Dataset\n",
    "print(data.head())"
   ]
  },
  {
   "cell_type": "code",
   "execution_count": 3,
   "metadata": {},
   "outputs": [
    {
     "name": "stdout",
     "output_type": "stream",
     "text": [
      "(595212, 59)\n"
     ]
    }
   ],
   "source": [
    "#Printing The Shape\n",
    "print(data.shape)"
   ]
  },
  {
   "cell_type": "code",
   "execution_count": 6,
   "metadata": {},
   "outputs": [],
   "source": [
    "#Describe the dataset in terms of mean,median,mode etc.\n",
    "data.describe()"
   ]
  },
  {
   "cell_type": "code",
   "execution_count": 10,
   "metadata": {},
   "outputs": [],
   "source": [
    "#Creating The Dummy Data for Understanding the dataset\n",
    "dummy=data.head(1000)\n",
    "dummy.to_csv(\"dummy.csv\")"
   ]
  },
  {
   "cell_type": "code",
   "execution_count": 11,
   "metadata": {},
   "outputs": [
    {
     "data": {
      "text/plain": [
       "<AxesSubplot:>"
      ]
     },
     "execution_count": 11,
     "metadata": {},
     "output_type": "execute_result"
    },
    {
     "data": {
      "image/png": "[encoded data removed]",
      "text/plain": [
       "<Figure size 720x720 with 2 Axes>"
      ]
     },
     "metadata": {
      "needs_background": "light"
     },
     "output_type": "display_data"
    }
   ],
   "source": [
    "#dummy.corr\n",
    "#Plotting Heatmap of Correlation Matrix \n",
    "corrmat = data.corr() \n",
    "f, ax = plt.subplots(figsize =(10,10)) \n",
    "sns.heatmap(corrmat, ax = ax, cmap =\"YlGnBu\", linewidths = 0.1)"
   ]
  },
  {
   "cell_type": "code",
   "execution_count": 12,
   "metadata": {},
   "outputs": [],
   "source": [
    "#Finding insight of dataset with better visualisation\n",
    "from pandas_profiling import ProfileReport\n",
    "ProfileReport(data.head(6))"
   ]
  },
  {
   "cell_type": "code",
   "execution_count": 42,
   "metadata": {},
   "outputs": [],
   "source": [
    "#data.corr()\n",
    "#finding Correlation of independent variable with Target Variable\n",
    "test=data[data.columns[1:]].corr()['target'][:]"
   ]
  },
  {
   "cell_type": "code",
   "execution_count": 43,
   "metadata": {},
   "outputs": [
    {
     "name": "stderr",
     "output_type": "stream",
     "text": [
      "C:\\Users\\vikas.maurya\\AppData\\Roaming\\Python\\Python37\\site-packages\\seaborn\\_decorators.py:43: FutureWarning: Pass the following variables as keyword args: x, y. From version 0.12, the only valid positional argument will be `data`, and passing other arguments without an explicit keyword will result in an error or misinterpretation.\n",
      "  FutureWarning\n"
     ]
    },
    {
     "data": {
      "image/png": "[encoded data removed]",
      "text/plain": [
       "<Figure size 432x288 with 1 Axes>"
      ]
     },
     "metadata": {
      "needs_background": "light"
     },
     "output_type": "display_data"
    },
    {
     "name": "stderr",
     "output_type": "stream",
     "text": [
      "C:\\Users\\vikas.maurya\\AppData\\Roaming\\Python\\Python37\\site-packages\\seaborn\\_decorators.py:43: FutureWarning: Pass the following variables as keyword args: x, y. From version 0.12, the only valid positional argument will be `data`, and passing other arguments without an explicit keyword will result in an error or misinterpretation.\n",
      "  FutureWarning\n"
     ]
    },
    {
     "data": {
      "image/png": "[encoded data removed]",
      "text/plain": [
       "<Figure size 432x288 with 1 Axes>"
      ]
     },
     "metadata": {
      "needs_background": "light"
     },
     "output_type": "display_data"
    }
   ],
   "source": [
    "#Sorting The Feature According to their Correlation Value to ascending order\n",
    "inference=test.sort_values(ascending=False).head(20)\n",
    "inference1=test.sort_values().head(20)\n",
    "\n",
    "#Sorting The Feature According to their Correlation Value to Descending order\n",
    "sns.barplot(inference.values,inference.keys())\n",
    "plt.show()\n",
    "\n",
    "sns.barplot(inference1.values,inference1.keys())\n",
    "plt.show()"
   ]
  },
  {
   "cell_type": "markdown",
   "metadata": {},
   "source": [
    "## 1.Write at least 3 important inferences from the data above"
   ]
  },
  {
   "cell_type": "code",
   "execution_count": 44,
   "metadata": {},
   "outputs": [],
   "source": [
    "#After seeing the above plot we can find the top 5 correlated and non-correlated columns.\n",
    "keyCol=inference.keys()\n",
    "keyColn=inference1.keys()"
   ]
  },
  {
   "cell_type": "code",
   "execution_count": 45,
   "metadata": {},
   "outputs": [
    {
     "name": "stdout",
     "output_type": "stream",
     "text": [
      "The below 10 columns are highly correlated\n",
      "ps_car_13\n",
      "ps_car_12\n",
      "ps_ind_17_bin\n",
      "ps_reg_02\n",
      "ps_ind_07_bin\n",
      "ps_car_04_cat\n",
      "ps_reg_03\n",
      "ps_car_15\n",
      "ps_reg_01\n",
      "ps_ind_01\n"
     ]
    }
   ],
   "source": [
    "#inference 1\n",
    "print(\"The below 10 columns are highly correlated\")\n",
    "for i in range(1,11):\n",
    "    print(keyCol[i])"
   ]
  },
  {
   "cell_type": "code",
   "execution_count": 46,
   "metadata": {},
   "outputs": [
    {
     "name": "stdout",
     "output_type": "stream",
     "text": [
      "The below 10 columns are highly non-correlated\n",
      "ps_ind_06_bin\n",
      "ps_car_02_cat\n",
      "ps_ind_16_bin\n",
      "ps_ind_15\n",
      "ps_car_08_cat\n",
      "ps_car_07_cat\n",
      "ps_car_05_cat\n",
      "ps_ind_09_bin\n",
      "ps_car_03_cat\n",
      "ps_calc_19_bin\n"
     ]
    }
   ],
   "source": [
    "print(\"The below 10 columns are highly uncorrelated\")\n",
    "for i in range(0,10):\n",
    "    print(keyColn[i])"
   ]
  },
  {
   "cell_type": "code",
   "execution_count": null,
   "metadata": {},
   "outputs": [],
   "source": [
    "#inference 2\n",
    "Print(\"After Seeing the Correlation of heatmap we can say that most of the data Independent that is uncorrelated\")"
   ]
  },
  {
   "cell_type": "code",
   "execution_count": 10,
   "metadata": {},
   "outputs": [],
   "source": [
    "#inference 3\n",
    "print(\"ID column is irrelevant column,so we can drop from tha dataset,it will does not affect the accuracy\")"
   ]
  },
  {
   "cell_type": "code",
   "execution_count": 3,
   "metadata": {},
   "outputs": [
    {
     "name": "stdout",
     "output_type": "stream",
     "text": [
      "Data is higly imblaced, target distribtion is:\n",
      "0 = 96.36 %\n",
      "1 = 3.64 %\n"
     ]
    }
   ],
   "source": [
    "#inference 4\n",
    "print(\"Data is higly imblaced, target distribtion is:\")\n",
    "\n",
    "print(\"0 = 96.36 %\")\n",
    "\n",
    "print(\"1 = 3.64 %\")"
   ]
  },
  {
   "cell_type": "code",
   "execution_count": null,
   "metadata": {},
   "outputs": [],
   "source": []
  },
  {
   "cell_type": "markdown",
   "metadata": {},
   "source": [
    "## 2.Is the data balanced? Meaning are targets 0 and 1 in right proportion?"
   ]
  },
  {
   "cell_type": "code",
   "execution_count": 5,
   "metadata": {},
   "outputs": [
    {
     "name": "stdout",
     "output_type": "stream",
     "text": [
      "Target Variables are not balanced since difference between them is very high that is: 551824\n",
      "The proportion is wrong it has one class very high and the second class is very low   0.963552482140817 : 0.036447517859182946\n",
      "Data is higly imblaced, target distribtion is:\n",
      "0 = 96.36 %\n",
      "1 = 3.64 %\n"
     ]
    }
   ],
   "source": [
    "Y=data[\"target\"]\n",
    "Y.unique()\n",
    "Y.value_counts()\n",
    "x_zero=Y.value_counts()\n",
    "diff=x_zero[0]-x_zero[1]\n",
    "total=x_zero[0]+x_zero[1]\n",
    "print(\"Target Variables are not balanced since difference between them is very high that is:\",diff)\n",
    "print(\"The proportion is wrong it has one class very high and the second class is very low  \",x_zero[0]/total,\":\",x_zero[1]/total)\n",
    "print(\"Data is higly imblaced, target distribtion is:\")\n",
    "print(\"0 = 96.36 %\")\n",
    "print(\"1 = 3.64 %\")"
   ]
  },
  {
   "cell_type": "code",
   "execution_count": 8,
   "metadata": {},
   "outputs": [
    {
     "name": "stdout",
     "output_type": "stream",
     "text": [
      "Percentge distribution of class '1' & class '0':\n",
      "\n",
      " 0    96.355248\n",
      "1     3.644752\n",
      "Name: target, dtype: float64\n"
     ]
    },
    {
     "data": {
      "image/png": "[encoded data removed]",
      "text/plain": [
       "<Figure size 432x288 with 1 Axes>"
      ]
     },
     "metadata": {
      "needs_background": "light"
     },
     "output_type": "display_data"
    }
   ],
   "source": [
    "perc = (data['target'].value_counts()/(data.shape[0]))*100\n",
    "print(\"Percentge distribution of class '1' & class '0':\\n\\n\",perc)\n",
    "perc.plot.bar();"
   ]
  },
  {
   "cell_type": "code",
   "execution_count": null,
   "metadata": {},
   "outputs": [],
   "source": []
  },
  {
   "cell_type": "code",
   "execution_count": null,
   "metadata": {},
   "outputs": [],
   "source": []
  },
  {
   "cell_type": "markdown",
   "metadata": {},
   "source": [
    "## 3.How many categorical features are there?"
   ]
  },
  {
   "cell_type": "code",
   "execution_count": 3,
   "metadata": {},
   "outputs": [
    {
     "name": "stdout",
     "output_type": "stream",
     "text": [
      "Number of Categorical Features: \n",
      "14\n"
     ]
    }
   ],
   "source": [
    "col=data.columns.values\n",
    "cat=[i for i in col if 'cat' in i]\n",
    "print(\"Number of Categorical Features: \")\n",
    "print(len(cat))"
   ]
  },
  {
   "cell_type": "markdown",
   "metadata": {},
   "source": [
    "## 4.How many binary features are there?"
   ]
  },
  {
   "cell_type": "code",
   "execution_count": 4,
   "metadata": {},
   "outputs": [
    {
     "name": "stdout",
     "output_type": "stream",
     "text": [
      "Number of Binary Features: \n",
      "17\n"
     ]
    }
   ],
   "source": [
    "col=data.columns.values\n",
    "bi=[i for i in col if 'bin' in i]\n",
    "print(\"Number of Binary Features: \")\n",
    "print(len(bi))"
   ]
  },
  {
   "cell_type": "code",
   "execution_count": 5,
   "metadata": {},
   "outputs": [],
   "source": [
    "ind=[i for i in col if 'ind' in i and 'cat' not in i and 'bin' not in i]\n",
    "reg=[i for i in col if 'reg' in i]\n",
    "car=[i for i in col if 'car' in i and 'cat' not in i]\n",
    "calc=[i for i in col if 'calc' in i and 'bin' not in i]"
   ]
  },
  {
   "cell_type": "code",
   "execution_count": 7,
   "metadata": {},
   "outputs": [
    {
     "name": "stdout",
     "output_type": "stream",
     "text": [
      "57\n"
     ]
    }
   ],
   "source": [
    "total_f=len(ind)+len(reg)+len(car)+len(calc)+len(cat)+len(bi)\n",
    "print(total_f)"
   ]
  },
  {
   "cell_type": "markdown",
   "metadata": {},
   "source": [
    "## 5.Write inferences from data on Interval variables."
   ]
  },
  {
   "cell_type": "code",
   "execution_count": 8,
   "metadata": {
    "scrolled": true
   },
   "outputs": [
    {
     "data": {
      "text/plain": [
       "['ps_car_11', 'ps_car_12', 'ps_car_13', 'ps_car_14', 'ps_car_15']"
      ]
     },
     "execution_count": 8,
     "metadata": {},
     "output_type": "execute_result"
    }
   ],
   "source": [
    "#Ex_bin_cat\n",
    "#Excluding the Binary and categorical values\n",
    "Ex_bin_cat=ind+reg+car+calc\n",
    "new_data=data[Ex_bin_cat]\n",
    "#new_data.to_csv(\"New_data.csv\")\n",
    "car"
   ]
  },
  {
   "cell_type": "code",
   "execution_count": 9,
   "metadata": {},
   "outputs": [],
   "source": [
    "Interval_variables_data=new_data[['ps_calc_01','ps_calc_02','ps_calc_03','ps_reg_01','ps_reg_02','ps_car_12','ps_car_13','ps_car_14','ps_car_15','ps_reg_03']]"
   ]
  },
  {
   "cell_type": "code",
   "execution_count": 10,
   "metadata": {},
   "outputs": [
    {
     "data": {
      "text/plain": [
       "<AxesSubplot:>"
      ]
     },
     "execution_count": 10,
     "metadata": {},
     "output_type": "execute_result"
    },
    {
     "data": {
      "image/png": "[encoded data removed]",
      "text/plain": [
       "<Figure size 720x720 with 2 Axes>"
      ]
     },
     "metadata": {
      "needs_background": "light"
     },
     "output_type": "display_data"
    }
   ],
   "source": [
    "corrmat = Interval_variables_data.corr() \n",
    "f, ax = plt.subplots(figsize =(10,10)) \n",
    "sns.heatmap(corrmat, ax = ax, cmap =\"YlGnBu\", linewidths = 0.1)"
   ]
  },
  {
   "cell_type": "code",
   "execution_count": 13,
   "metadata": {},
   "outputs": [
    {
     "name": "stdout",
     "output_type": "stream",
     "text": [
      "After seeing the heatmap We can say that ps_reg_01 is correlated with ps_reg_02,ps_reg_03 Which shows the Multicollinearity\n",
      "Almost all the features are independent\n"
     ]
    }
   ],
   "source": [
    "#print(corrmat)\n",
    "#Inference 1\n",
    "print(\"After seeing the heatmap We can say that ps_reg_01 is correlated with ps_reg_02,ps_reg_03 Which shows the Multicollinearity\")\n",
    "print(\"Almost all the features are independent\")"
   ]
  },
  {
   "cell_type": "code",
   "execution_count": 11,
   "metadata": {},
   "outputs": [
    {
     "name": "stderr",
     "output_type": "stream",
     "text": [
      "C:\\Users\\vikas.maurya\\AppData\\Roaming\\Python\\Python37\\site-packages\\seaborn\\_decorators.py:43: FutureWarning: Pass the following variables as keyword args: x, y. From version 0.12, the only valid positional argument will be `data`, and passing other arguments without an explicit keyword will result in an error or misinterpretation.\n",
      "  FutureWarning\n"
     ]
    },
    {
     "data": {
      "image/png": "[encoded data removed]",
      "text/plain": [
       "<Figure size 432x288 with 1 Axes>"
      ]
     },
     "metadata": {
      "needs_background": "light"
     },
     "output_type": "display_data"
    },
    {
     "name": "stdout",
     "output_type": "stream",
     "text": [
      "All the Interval Variable is Balanced with respect to target Values\n"
     ]
    }
   ],
   "source": [
    "#Interval_variables_data.head()\n",
    "sns.barplot(Interval_variables_data['ps_reg_01'],data['target'])\n",
    "plt.show()\n",
    "#Inference 2\n",
    "print(\"All the Interval Variable is Balanced with respect to target Values\")"
   ]
  },
  {
   "cell_type": "markdown",
   "metadata": {},
   "source": [
    "## 6.Write inferences from data on ordinal variables."
   ]
  },
  {
   "cell_type": "code",
   "execution_count": 14,
   "metadata": {},
   "outputs": [],
   "source": [
    "column_todrop_toget_ordinal=['ps_ind_14','ps_reg_03','ps_car_12','ps_car_13', 'ps_car_14', 'ps_car_15','ps_calc_01','ps_calc_02','ps_calc_03','ps_reg_01','ps_reg_02']\n",
    "\n",
    "Ordinal_variables_data=new_data.drop(column_todrop_toget_ordinal, axis = 1)"
   ]
  },
  {
   "cell_type": "code",
   "execution_count": 15,
   "metadata": {},
   "outputs": [
    {
     "data": {
      "image/png": "[encoded data removed]",
      "text/plain": [
       "<Figure size 720x720 with 2 Axes>"
      ]
     },
     "metadata": {
      "needs_background": "light"
     },
     "output_type": "display_data"
    }
   ],
   "source": [
    "#Ordinal_variables_data.head(10)\n",
    "corrmat = Ordinal_variables_data.corr() \n",
    "f, ax = plt.subplots(figsize =(10,10)) \n",
    "sns.heatmap(corrmat, ax = ax, cmap =\"YlGnBu\", linewidths = 0.1)\n",
    "plt.show()"
   ]
  },
  {
   "cell_type": "code",
   "execution_count": 98,
   "metadata": {},
   "outputs": [
    {
     "name": "stderr",
     "output_type": "stream",
     "text": [
      "C:\\Users\\vikas.maurya\\AppData\\Roaming\\Python\\Python37\\site-packages\\seaborn\\_decorators.py:43: FutureWarning: Pass the following variables as keyword args: x, y. From version 0.12, the only valid positional argument will be `data`, and passing other arguments without an explicit keyword will result in an error or misinterpretation.\n",
      "  FutureWarning\n"
     ]
    },
    {
     "data": {
      "image/png": "[encoded data removed]",
      "text/plain": [
       "<Figure size 432x288 with 1 Axes>"
      ]
     },
     "metadata": {
      "needs_background": "light"
     },
     "output_type": "display_data"
    },
    {
     "name": "stderr",
     "output_type": "stream",
     "text": [
      "C:\\Users\\vikas.maurya\\AppData\\Roaming\\Python\\Python37\\site-packages\\seaborn\\_decorators.py:43: FutureWarning: Pass the following variables as keyword args: x, y. From version 0.12, the only valid positional argument will be `data`, and passing other arguments without an explicit keyword will result in an error or misinterpretation.\n",
      "  FutureWarning\n"
     ]
    },
    {
     "data": {
      "image/png": "[encoded data removed]",
      "text/plain": [
       "<Figure size 432x288 with 1 Axes>"
      ]
     },
     "metadata": {
      "needs_background": "light"
     },
     "output_type": "display_data"
    }
   ],
   "source": [
    "#test=data[column_todrop_toget_ordinal]+data[\"target\"]\n",
    "\n",
    "sns.barplot(Ordinal_variables_data['ps_calc_11'],data['target'])\n",
    "plt.show()\n",
    "\n",
    "sns.barplot(Ordinal_variables_data['ps_ind_01'],data['ps_ind_03'])\n",
    "plt.show()"
   ]
  },
  {
   "cell_type": "code",
   "execution_count": 19,
   "metadata": {},
   "outputs": [
    {
     "name": "stdout",
     "output_type": "stream",
     "text": [
      "ps_ind_01 and ps_ind_03 is correlated to each other \n",
      "It is balanced w.r.t to Target Data\n",
      "Most of the feature is independent \n"
     ]
    }
   ],
   "source": [
    "#Inference1\n",
    "\n",
    "print(\"ps_ind_01 and ps_ind_03 is correlated to each other \")\n",
    "print(\"It is balanced w.r.t to Target Data\")\n",
    "\n",
    "#Inference2\n",
    "print(\"Most of the feature is independent of each other \")"
   ]
  },
  {
   "cell_type": "markdown",
   "metadata": {},
   "source": [
    "## 7.Write inferences from data on binary variables."
   ]
  },
  {
   "cell_type": "code",
   "execution_count": null,
   "metadata": {},
   "outputs": [],
   "source": []
  },
  {
   "cell_type": "code",
   "execution_count": 15,
   "metadata": {},
   "outputs": [],
   "source": [
    "binary_variable_data=data[bi]"
   ]
  },
  {
   "cell_type": "code",
   "execution_count": 103,
   "metadata": {},
   "outputs": [
    {
     "data": {
      "text/plain": [
       "<AxesSubplot:>"
      ]
     },
     "execution_count": 103,
     "metadata": {},
     "output_type": "execute_result"
    },
    {
     "data": {
      "image/png": "[encoded data removed]",
      "text/plain": [
       "<Figure size 720x720 with 2 Axes>"
      ]
     },
     "metadata": {
      "needs_background": "light"
     },
     "output_type": "display_data"
    }
   ],
   "source": [
    "#binary_variable_data.head(5)\n",
    "corrmat = binary_variable_data.corr() \n",
    "f, ax = plt.subplots(figsize =(10,10)) \n",
    "sns.heatmap(corrmat, ax = ax, cmap =\"YlGnBu\", linewidths = 0.1)"
   ]
  },
  {
   "cell_type": "code",
   "execution_count": 20,
   "metadata": {},
   "outputs": [
    {
     "name": "stdout",
     "output_type": "stream",
     "text": [
      "Data has 0 correlation between the columns it shows some -ve correlation between some columns\n",
      "Most of the feature is independent of each other \n"
     ]
    }
   ],
   "source": [
    "#inference1\n",
    "print(\"Data has 0 correlation between the columns it shows some -ve correlation between some columns\")\n",
    "#Inference2\n",
    "print(\"Most of the feature is independent of each other \")"
   ]
  },
  {
   "cell_type": "markdown",
   "metadata": {},
   "source": [
    "## 8.Check if the target data is proportionate or not. Hint: Below than 30% for binary data is sign of imbalance\n"
   ]
  },
  {
   "cell_type": "code",
   "execution_count": null,
   "metadata": {},
   "outputs": [
    {
     "name": "stdout",
     "output_type": "stream",
     "text": [
      "Target Variables are not balanced since difference between them is very high that is: 551824\n",
      "The proportion is wrong it has one class very high and the second class is very low 0.963552482140817 : 0.036447517859182946\n",
      "The binary Data is less than 30% that is 3.6% in this case,whcih shows that sign of imbalance.\n"
     ]
    }
   ],
   "source": [
    "x_zero=Y.value_counts()\n",
    "diff=x_zero[0]-x_zero[1]\n",
    "total=x_zero[0]+x_zero[1]\n",
    "print(\"Target Variables are not balanced since difference between them is very high that is:\",diff)\n",
    "print(\"The proportion is wrong it has one class very high and the second class is very low\",x_zero[0]/total,\":\",x_zero[1]/total)\n",
    "print(\"The binary Data is less than 30% that is 3.6% in this case,whcih shows that sign of imbalance.\")\n",
    "perc = (data['target'].value_counts()/(data.shape[0]))*100\n",
    "print(\"Percentge distribution of class '1' & class '0':\\n\\n\",perc)\n",
    "perc.plot.bar();"
   ]
  },
  {
   "cell_type": "markdown",
   "metadata": {},
   "source": [
    "## 9.Whatshould be the preferred way in this case to balance the data?\n"
   ]
  },
  {
   "cell_type": "code",
   "execution_count": 39,
   "metadata": {},
   "outputs": [
    {
     "data": {
      "text/plain": [
       "0    573518\n",
       "1     78425\n",
       "Name: target, dtype: int64"
      ]
     },
     "execution_count": 39,
     "metadata": {},
     "output_type": "execute_result"
    }
   ],
   "source": [
    "#There Are various Methods,which can be applied to balance the data.\n",
    "\n",
    "#1:Up-sample the minority class\n",
    "#2:Down-sample the majority class\n",
    "#3:Change your performance metric\n",
    "#4:Penalize algorithms (cost-sensitive training)\n",
    "#5:Use tree-based algorithms\n",
    "#6:Create Synthetic Samples (Data Augmentation)=>Smote Algorithm\n",
    "#7:Combine Minority Classes\n",
    "#8:Reframe as Anomaly Detection\n",
    "\n",
    "\n",
    "#In upsample we are adding more minority classes.Which may leads to overfitting but we can handle it letter.\n",
    "#In downsample we are removing the majority class.Which leads to deleting important/relevant information,so according to me the \n",
    "#prefered way is Up-Sample.\n",
    "#Other methods are also there but some of required modeling and other function so,which I will explore letter.\n",
    "\n",
    "data_major=data[data.target==0]\n",
    "data_minor=data[data.target==1]\n",
    "\n",
    "#data_major\n",
    "#print(data_major.target.value_counts())\n",
    "\n",
    "# Upsample minority class\n",
    "data_minority_upsampled = resample(data_minor, \n",
    "                                 replace=True,     # sample with replacement\n",
    "                                 n_samples=int(len(data)*0.12+7000),    # to match majority class for 12% proportion\n",
    "                                 random_state=123) # reproducible results\n",
    "\n",
    "# Combine majority class with upsampled minority class\n",
    "data_upsampled = pd.concat([data_major, data_minority_upsampled])\n",
    " \n",
    "# Display new class counts\n",
    "data_upsampled.target.value_counts()"
   ]
  },
  {
   "cell_type": "code",
   "execution_count": null,
   "metadata": {},
   "outputs": [],
   "source": []
  },
  {
   "cell_type": "code",
   "execution_count": null,
   "metadata": {},
   "outputs": [],
   "source": []
  },
  {
   "cell_type": "markdown",
   "metadata": {},
   "source": [
    "## 10.How many training records are there after achieving balance of 12 %? "
   ]
  },
  {
   "cell_type": "code",
   "execution_count": 40,
   "metadata": {},
   "outputs": [
    {
     "name": "stdout",
     "output_type": "stream",
     "text": [
      "The proportion of Data 0.8797057411460818 : 0.12029425885391822\n",
      "Without splitting the dataset\n",
      "For achieving balance of 12%.The Training records incrased to 651943\n",
      "After splitting the dataset.\n",
      "The Training record will be 521554\n"
     ]
    }
   ],
   "source": [
    "Y=data_upsampled[\"target\"]\n",
    "\n",
    "Y.unique()\n",
    "Y.value_counts()\n",
    "x_zero=Y.value_counts()\n",
    "diff=x_zero[0]-x_zero[1]\n",
    "total=x_zero[0]+x_zero[1]\n",
    "\n",
    "print(\"The proportion of Data\",x_zero[0]/total,\":\",x_zero[1]/total)\n",
    "print(\"Without splitting the dataset\")\n",
    "print(\"For achieving balance of 12%.The Training records incrased to\",len(Y))\n",
    "print(\"After splitting the dataset.\")\n",
    "print(\"The Training record will be\",int(len(Y)*0.8))\n"
   ]
  },
  {
   "cell_type": "markdown",
   "metadata": {},
   "source": [
    "### Smote For Upsamling that is balancing the data"
   ]
  },
  {
   "cell_type": "code",
   "execution_count": 11,
   "metadata": {},
   "outputs": [
    {
     "data": {
      "text/plain": [
       "(1147036, 57)"
      ]
     },
     "execution_count": 11,
     "metadata": {},
     "output_type": "execute_result"
    }
   ],
   "source": [
    "#Method2\n",
    "#Since it reduce chances of overfitting i.e. SMOTE Technique Predict the new samples\n",
    "# for reproducibility purposes\n",
    "seed = 100\n",
    "# SMOTE number of neighbors\n",
    "k = 2\n",
    "\n",
    "# make a new df made of all the columns, except the target class\n",
    "features = data.iloc[:,2:]\n",
    "predictor= data['target']\n",
    "sm = SMOTE(sampling_strategy='auto', k_neighbors=k, random_state=seed)\n",
    "X_res, y_res = sm.fit_resample(features, predictor)\n",
    "X_res.shape"
   ]
  },
  {
   "cell_type": "code",
   "execution_count": 21,
   "metadata": {},
   "outputs": [],
   "source": [
    "#The missing value is represented as -1 in this given dataset\n",
    "min_values_features=data.min()\n",
    "number_of_missing_features=[]\n",
    "for i in min_values_features.keys():\n",
    "    if min_values_features[i]==-1:\n",
    "        number_of_missing_features.append(i)\n",
    "    #print(min_values_features[i])\n",
    "#min_values_features.keys()"
   ]
  },
  {
   "cell_type": "markdown",
   "metadata": {},
   "source": [
    "## 11.Which are the top two features in terms of missing values? "
   ]
  },
  {
   "cell_type": "code",
   "execution_count": 25,
   "metadata": {},
   "outputs": [
    {
     "name": "stdout",
     "output_type": "stream",
     "text": [
      " 1    431859\n",
      " 2    123573\n",
      " 3     28186\n",
      " 4     11378\n",
      "-1       216\n",
      "Name: ps_ind_02_cat, dtype: int64\n",
      " 0    346965\n",
      " 1    248164\n",
      "-1        83\n",
      "Name: ps_ind_04_cat, dtype: int64\n",
      " 0    528009\n",
      " 6     20662\n",
      " 4     18344\n",
      " 1      8322\n",
      " 3      8233\n",
      "-1      5809\n",
      " 2      4184\n",
      " 5      1649\n",
      "Name: ps_ind_05_cat, dtype: int64\n",
      "-1.000000    107772\n",
      " 0.633936       664\n",
      " 0.602599       637\n",
      " 0.704894       627\n",
      " 0.587899       616\n",
      "              ...  \n",
      " 0.328824         1\n",
      " 1.743560         1\n",
      " 2.198437         1\n",
      " 2.379207         1\n",
      " 1.595306         1\n",
      "Name: ps_reg_03, Length: 5013, dtype: int64\n",
      " 11    207573\n",
      " 7     179247\n",
      " 6      62393\n",
      " 10     50087\n",
      " 4      26174\n",
      " 9      20323\n",
      " 5      18142\n",
      " 8      15093\n",
      " 3       6658\n",
      " 0       5904\n",
      " 2       2144\n",
      " 1       1367\n",
      "-1        107\n",
      "Name: ps_car_01_cat, dtype: int64\n",
      "-1    411231\n",
      " 1    110709\n",
      " 0     73272\n",
      "Name: ps_car_03_cat, dtype: int64\n",
      "-1    266551\n",
      " 1    172667\n",
      " 0    155994\n",
      "Name: ps_car_05_cat, dtype: int64\n",
      " 1    553148\n",
      " 0     30575\n",
      "-1     11489\n",
      "Name: ps_car_07_cat, dtype: int64\n",
      " 2    353482\n",
      " 0    194518\n",
      " 1     29080\n",
      " 3     14756\n",
      " 4      2807\n",
      "-1       569\n",
      "Name: ps_car_09_cat, dtype: int64\n",
      " 3    318919\n",
      " 2    189353\n",
      " 1     60952\n",
      " 0     25983\n",
      "-1         5\n",
      "Name: ps_car_11, dtype: int64\n",
      "0.316228    170579\n",
      "0.400000    111873\n",
      "0.374166     98598\n",
      "0.447214     49318\n",
      "0.424264     49293\n",
      "             ...  \n",
      "0.465188         1\n",
      "0.647765         1\n",
      "0.346410         1\n",
      "0.562494         1\n",
      "0.370405         1\n",
      "Name: ps_car_12, Length: 184, dtype: int64\n",
      "-1.000000    42620\n",
      " 0.361525    17696\n",
      " 0.358329    15523\n",
      " 0.361939    11885\n",
      " 0.368782    11626\n",
      "             ...  \n",
      " 0.403856        1\n",
      " 0.379605        1\n",
      " 0.416773        1\n",
      " 0.435431        1\n",
      " 0.595819        1\n",
      "Name: ps_car_14, Length: 850, dtype: int64\n",
      "After seeing the output we can say that ps_car_01_cat and  ps_car_03_cat are top two features in terms of missing values \n"
     ]
    }
   ],
   "source": [
    "\n",
    "for i in number_of_missing_features:\n",
    "    print(data[i].value_counts())\n",
    "    \n",
    "print(\"After seeing the output we can say that ps_car_01_cat and  ps_car_03_cat are top two features in terms of missing values \")"
   ]
  },
  {
   "cell_type": "markdown",
   "metadata": {},
   "source": [
    "## 12.In total how many features have missing values?"
   ]
  },
  {
   "cell_type": "code",
   "execution_count": 26,
   "metadata": {},
   "outputs": [
    {
     "name": "stdout",
     "output_type": "stream",
     "text": [
      "Number of features having Missing Values\n",
      "12\n"
     ]
    },
    {
     "data": {
      "text/plain": [
       "['ps_ind_02_cat',\n",
       " 'ps_ind_04_cat',\n",
       " 'ps_ind_05_cat',\n",
       " 'ps_reg_03',\n",
       " 'ps_car_01_cat',\n",
       " 'ps_car_03_cat',\n",
       " 'ps_car_05_cat',\n",
       " 'ps_car_07_cat',\n",
       " 'ps_car_09_cat',\n",
       " 'ps_car_11',\n",
       " 'ps_car_12',\n",
       " 'ps_car_14']"
      ]
     },
     "execution_count": 26,
     "metadata": {},
     "output_type": "execute_result"
    }
   ],
   "source": [
    "print(\"Number of features having Missing Values\")\n",
    "print(len(number_of_missing_features))\n",
    "number_of_missing_features"
   ]
  },
  {
   "cell_type": "markdown",
   "metadata": {},
   "source": [
    "## 13.What steps should be taken to handle the missing data?"
   ]
  },
  {
   "cell_type": "code",
   "execution_count": 8,
   "metadata": {},
   "outputs": [
    {
     "data": {
      "text/plain": [
       "id                0\n",
       "target            0\n",
       "ps_ind_01         0\n",
       "ps_ind_02_cat     0\n",
       "ps_ind_03         0\n",
       "ps_ind_04_cat     0\n",
       "ps_ind_05_cat     0\n",
       "ps_ind_06_bin     0\n",
       "ps_ind_07_bin     0\n",
       "ps_ind_08_bin     0\n",
       "ps_ind_09_bin     0\n",
       "ps_ind_10_bin     0\n",
       "ps_ind_11_bin     0\n",
       "ps_ind_12_bin     0\n",
       "ps_ind_13_bin     0\n",
       "ps_ind_14         0\n",
       "ps_ind_15         0\n",
       "ps_ind_16_bin     0\n",
       "ps_ind_17_bin     0\n",
       "ps_ind_18_bin     0\n",
       "ps_reg_01         0\n",
       "ps_reg_02         0\n",
       "ps_reg_03         0\n",
       "ps_car_01_cat     0\n",
       "ps_car_02_cat     0\n",
       "ps_car_03_cat     0\n",
       "ps_car_04_cat     0\n",
       "ps_car_05_cat     0\n",
       "ps_car_06_cat     0\n",
       "ps_car_07_cat     0\n",
       "ps_car_08_cat     0\n",
       "ps_car_09_cat     0\n",
       "ps_car_10_cat     0\n",
       "ps_car_11_cat     0\n",
       "ps_car_11         0\n",
       "ps_car_12         0\n",
       "ps_car_13         0\n",
       "ps_car_14         0\n",
       "ps_car_15         0\n",
       "ps_calc_01        0\n",
       "ps_calc_02        0\n",
       "ps_calc_03        0\n",
       "ps_calc_04        0\n",
       "ps_calc_05        0\n",
       "ps_calc_06        0\n",
       "ps_calc_07        0\n",
       "ps_calc_08        0\n",
       "ps_calc_09        0\n",
       "ps_calc_10        0\n",
       "ps_calc_11        0\n",
       "ps_calc_12        0\n",
       "ps_calc_13        0\n",
       "ps_calc_14        0\n",
       "ps_calc_15_bin    0\n",
       "ps_calc_16_bin    0\n",
       "ps_calc_17_bin    0\n",
       "ps_calc_18_bin    0\n",
       "ps_calc_19_bin    0\n",
       "ps_calc_20_bin    0\n",
       "dtype: int64"
      ]
     },
     "execution_count": 8,
     "metadata": {},
     "output_type": "execute_result"
    }
   ],
   "source": [
    "#There Are vaious methods to deal with Missing Data\n",
    "#1:-  Deleting Rows\n",
    "#2:-  Replacing With Mean/Median/Mode\n",
    "#3:-  Assigning An Unique Category\n",
    "#4:-  Predicting The Missing Values\n",
    "#5:-  Using Algorithms Which Support Missing Values\n",
    "\n",
    "# I used the 2nd Method to handle the missing Data.\n",
    "#missing_data_column=data[number_of_missing_features]\n",
    "data.replace(-1,np.NaN,inplace=True)\n",
    "\n",
    "\n",
    "data[data==-1].count()\n",
    "#Categorical Variable Will be replaced by mode of the column\n",
    "\n",
    "data['ps_ind_02_cat']=data['ps_ind_02_cat'].fillna(data['ps_ind_02_cat'].mode()[0])\n",
    "data['ps_ind_04_cat']=data['ps_ind_04_cat'].fillna(data['ps_ind_04_cat'].mode()[0])\n",
    "data['ps_ind_05_cat']=data['ps_ind_05_cat'].fillna(0)\n",
    "\n",
    "data['ps_car_01_cat']=data['ps_car_01_cat'].fillna(data['ps_car_01_cat'].mode()[0])\n",
    "data['ps_car_03_cat']=data['ps_car_03_cat'].fillna(data['ps_car_03_cat'].mode()[0])\n",
    "data['ps_car_05_cat']=data['ps_car_05_cat'].fillna(data['ps_car_05_cat'].mode()[0])\n",
    "data['ps_car_07_cat']=data['ps_car_07_cat'].fillna(data['ps_car_07_cat'].mode()[0])\n",
    "data['ps_car_09_cat']=data['ps_car_09_cat'].fillna(data['ps_car_09_cat'].mode()[0])\n",
    "\n",
    "#Continous variable will be replaced by mean of the column\n",
    "data['ps_car_12']=data['ps_car_12'].fillna(data['ps_car_12'].mean())\n",
    "data['ps_car_14']=data['ps_car_14'].fillna(data['ps_car_14'].mean())\n",
    "\n",
    "\n",
    "data['ps_reg_03']=data['ps_reg_03'].fillna(data['ps_reg_03'].mean())\n",
    "data['ps_car_11']=data['ps_car_11'].fillna(data['ps_car_11'].mode()[0])\n",
    "\n",
    "data.isna().sum()"
   ]
  },
  {
   "cell_type": "code",
   "execution_count": 9,
   "metadata": {},
   "outputs": [
    {
     "data": {
      "text/plain": [
       "id                  int64\n",
       "target              int64\n",
       "ps_ind_01           int64\n",
       "ps_ind_02_cat     float64\n",
       "ps_ind_03           int64\n",
       "ps_ind_04_cat     float64\n",
       "ps_ind_05_cat     float64\n",
       "ps_ind_06_bin       int64\n",
       "ps_ind_07_bin       int64\n",
       "ps_ind_08_bin       int64\n",
       "ps_ind_09_bin       int64\n",
       "ps_ind_10_bin       int64\n",
       "ps_ind_11_bin       int64\n",
       "ps_ind_12_bin       int64\n",
       "ps_ind_13_bin       int64\n",
       "ps_ind_14           int64\n",
       "ps_ind_15           int64\n",
       "ps_ind_16_bin       int64\n",
       "ps_ind_17_bin       int64\n",
       "ps_ind_18_bin       int64\n",
       "ps_reg_01         float64\n",
       "ps_reg_02         float64\n",
       "ps_reg_03         float64\n",
       "ps_car_01_cat     float64\n",
       "ps_car_02_cat       int64\n",
       "ps_car_03_cat     float64\n",
       "ps_car_04_cat       int64\n",
       "ps_car_05_cat     float64\n",
       "ps_car_06_cat       int64\n",
       "ps_car_07_cat     float64\n",
       "ps_car_08_cat       int64\n",
       "ps_car_09_cat     float64\n",
       "ps_car_10_cat       int64\n",
       "ps_car_11_cat       int64\n",
       "ps_car_11         float64\n",
       "ps_car_12         float64\n",
       "ps_car_13         float64\n",
       "ps_car_14         float64\n",
       "ps_car_15         float64\n",
       "ps_calc_01        float64\n",
       "ps_calc_02        float64\n",
       "ps_calc_03        float64\n",
       "ps_calc_04          int64\n",
       "ps_calc_05          int64\n",
       "ps_calc_06          int64\n",
       "ps_calc_07          int64\n",
       "ps_calc_08          int64\n",
       "ps_calc_09          int64\n",
       "ps_calc_10          int64\n",
       "ps_calc_11          int64\n",
       "ps_calc_12          int64\n",
       "ps_calc_13          int64\n",
       "ps_calc_14          int64\n",
       "ps_calc_15_bin      int64\n",
       "ps_calc_16_bin      int64\n",
       "ps_calc_17_bin      int64\n",
       "ps_calc_18_bin      int64\n",
       "ps_calc_19_bin      int64\n",
       "ps_calc_20_bin      int64\n",
       "dtype: object"
      ]
     },
     "metadata": {},
     "output_type": "display_data"
    },
    {
     "data": {
      "text/html": [
       "<div>\n",
       "<style scoped>\n",
       "    .dataframe tbody tr th:only-of-type {\n",
       "        vertical-align: middle;\n",
       "    }\n",
       "\n",
       "    .dataframe tbody tr th {\n",
       "        vertical-align: top;\n",
       "    }\n",
       "\n",
       "    .dataframe thead th {\n",
       "        text-align: right;\n",
       "    }\n",
       "</style>\n",
       "<table border=\"1\" class=\"dataframe\">\n",
       "  <thead>\n",
       "    <tr style=\"text-align: right;\">\n",
       "      <th></th>\n",
       "      <th>id</th>\n",
       "      <th>target</th>\n",
       "      <th>ps_ind_01</th>\n",
       "      <th>ps_ind_02_cat</th>\n",
       "      <th>ps_ind_03</th>\n",
       "      <th>ps_ind_04_cat</th>\n",
       "      <th>ps_ind_05_cat</th>\n",
       "      <th>ps_ind_06_bin</th>\n",
       "      <th>ps_ind_07_bin</th>\n",
       "      <th>ps_ind_08_bin</th>\n",
       "      <th>...</th>\n",
       "      <th>ps_calc_11</th>\n",
       "      <th>ps_calc_12</th>\n",
       "      <th>ps_calc_13</th>\n",
       "      <th>ps_calc_14</th>\n",
       "      <th>ps_calc_15_bin</th>\n",
       "      <th>ps_calc_16_bin</th>\n",
       "      <th>ps_calc_17_bin</th>\n",
       "      <th>ps_calc_18_bin</th>\n",
       "      <th>ps_calc_19_bin</th>\n",
       "      <th>ps_calc_20_bin</th>\n",
       "    </tr>\n",
       "  </thead>\n",
       "  <tbody>\n",
       "    <tr>\n",
       "      <th>0</th>\n",
       "      <td>7</td>\n",
       "      <td>0</td>\n",
       "      <td>2</td>\n",
       "      <td>2.0</td>\n",
       "      <td>5</td>\n",
       "      <td>1.0</td>\n",
       "      <td>0.0</td>\n",
       "      <td>0</td>\n",
       "      <td>1</td>\n",
       "      <td>0</td>\n",
       "      <td>...</td>\n",
       "      <td>9</td>\n",
       "      <td>1</td>\n",
       "      <td>5</td>\n",
       "      <td>8</td>\n",
       "      <td>0</td>\n",
       "      <td>1</td>\n",
       "      <td>1</td>\n",
       "      <td>0</td>\n",
       "      <td>0</td>\n",
       "      <td>1</td>\n",
       "    </tr>\n",
       "    <tr>\n",
       "      <th>1</th>\n",
       "      <td>9</td>\n",
       "      <td>0</td>\n",
       "      <td>1</td>\n",
       "      <td>1.0</td>\n",
       "      <td>7</td>\n",
       "      <td>0.0</td>\n",
       "      <td>0.0</td>\n",
       "      <td>0</td>\n",
       "      <td>0</td>\n",
       "      <td>1</td>\n",
       "      <td>...</td>\n",
       "      <td>3</td>\n",
       "      <td>1</td>\n",
       "      <td>1</td>\n",
       "      <td>9</td>\n",
       "      <td>0</td>\n",
       "      <td>1</td>\n",
       "      <td>1</td>\n",
       "      <td>0</td>\n",
       "      <td>1</td>\n",
       "      <td>0</td>\n",
       "    </tr>\n",
       "    <tr>\n",
       "      <th>2</th>\n",
       "      <td>13</td>\n",
       "      <td>0</td>\n",
       "      <td>5</td>\n",
       "      <td>4.0</td>\n",
       "      <td>9</td>\n",
       "      <td>1.0</td>\n",
       "      <td>0.0</td>\n",
       "      <td>0</td>\n",
       "      <td>0</td>\n",
       "      <td>1</td>\n",
       "      <td>...</td>\n",
       "      <td>4</td>\n",
       "      <td>2</td>\n",
       "      <td>7</td>\n",
       "      <td>7</td>\n",
       "      <td>0</td>\n",
       "      <td>1</td>\n",
       "      <td>1</td>\n",
       "      <td>0</td>\n",
       "      <td>1</td>\n",
       "      <td>0</td>\n",
       "    </tr>\n",
       "    <tr>\n",
       "      <th>3</th>\n",
       "      <td>16</td>\n",
       "      <td>0</td>\n",
       "      <td>0</td>\n",
       "      <td>1.0</td>\n",
       "      <td>2</td>\n",
       "      <td>0.0</td>\n",
       "      <td>0.0</td>\n",
       "      <td>1</td>\n",
       "      <td>0</td>\n",
       "      <td>0</td>\n",
       "      <td>...</td>\n",
       "      <td>2</td>\n",
       "      <td>2</td>\n",
       "      <td>4</td>\n",
       "      <td>9</td>\n",
       "      <td>0</td>\n",
       "      <td>0</td>\n",
       "      <td>0</td>\n",
       "      <td>0</td>\n",
       "      <td>0</td>\n",
       "      <td>0</td>\n",
       "    </tr>\n",
       "    <tr>\n",
       "      <th>4</th>\n",
       "      <td>17</td>\n",
       "      <td>0</td>\n",
       "      <td>0</td>\n",
       "      <td>2.0</td>\n",
       "      <td>0</td>\n",
       "      <td>1.0</td>\n",
       "      <td>0.0</td>\n",
       "      <td>1</td>\n",
       "      <td>0</td>\n",
       "      <td>0</td>\n",
       "      <td>...</td>\n",
       "      <td>3</td>\n",
       "      <td>1</td>\n",
       "      <td>1</td>\n",
       "      <td>3</td>\n",
       "      <td>0</td>\n",
       "      <td>0</td>\n",
       "      <td>0</td>\n",
       "      <td>1</td>\n",
       "      <td>1</td>\n",
       "      <td>0</td>\n",
       "    </tr>\n",
       "    <tr>\n",
       "      <th>5</th>\n",
       "      <td>19</td>\n",
       "      <td>0</td>\n",
       "      <td>5</td>\n",
       "      <td>1.0</td>\n",
       "      <td>4</td>\n",
       "      <td>0.0</td>\n",
       "      <td>0.0</td>\n",
       "      <td>0</td>\n",
       "      <td>0</td>\n",
       "      <td>0</td>\n",
       "      <td>...</td>\n",
       "      <td>4</td>\n",
       "      <td>2</td>\n",
       "      <td>0</td>\n",
       "      <td>9</td>\n",
       "      <td>0</td>\n",
       "      <td>1</td>\n",
       "      <td>0</td>\n",
       "      <td>1</td>\n",
       "      <td>1</td>\n",
       "      <td>1</td>\n",
       "    </tr>\n",
       "    <tr>\n",
       "      <th>6</th>\n",
       "      <td>20</td>\n",
       "      <td>0</td>\n",
       "      <td>2</td>\n",
       "      <td>1.0</td>\n",
       "      <td>3</td>\n",
       "      <td>1.0</td>\n",
       "      <td>0.0</td>\n",
       "      <td>0</td>\n",
       "      <td>1</td>\n",
       "      <td>0</td>\n",
       "      <td>...</td>\n",
       "      <td>3</td>\n",
       "      <td>0</td>\n",
       "      <td>0</td>\n",
       "      <td>10</td>\n",
       "      <td>0</td>\n",
       "      <td>1</td>\n",
       "      <td>0</td>\n",
       "      <td>0</td>\n",
       "      <td>1</td>\n",
       "      <td>0</td>\n",
       "    </tr>\n",
       "    <tr>\n",
       "      <th>7</th>\n",
       "      <td>22</td>\n",
       "      <td>0</td>\n",
       "      <td>5</td>\n",
       "      <td>1.0</td>\n",
       "      <td>4</td>\n",
       "      <td>0.0</td>\n",
       "      <td>0.0</td>\n",
       "      <td>1</td>\n",
       "      <td>0</td>\n",
       "      <td>0</td>\n",
       "      <td>...</td>\n",
       "      <td>7</td>\n",
       "      <td>1</td>\n",
       "      <td>3</td>\n",
       "      <td>6</td>\n",
       "      <td>1</td>\n",
       "      <td>0</td>\n",
       "      <td>1</td>\n",
       "      <td>0</td>\n",
       "      <td>1</td>\n",
       "      <td>0</td>\n",
       "    </tr>\n",
       "    <tr>\n",
       "      <th>8</th>\n",
       "      <td>26</td>\n",
       "      <td>0</td>\n",
       "      <td>5</td>\n",
       "      <td>1.0</td>\n",
       "      <td>3</td>\n",
       "      <td>1.0</td>\n",
       "      <td>0.0</td>\n",
       "      <td>0</td>\n",
       "      <td>0</td>\n",
       "      <td>1</td>\n",
       "      <td>...</td>\n",
       "      <td>4</td>\n",
       "      <td>2</td>\n",
       "      <td>1</td>\n",
       "      <td>5</td>\n",
       "      <td>0</td>\n",
       "      <td>1</td>\n",
       "      <td>0</td>\n",
       "      <td>0</td>\n",
       "      <td>0</td>\n",
       "      <td>1</td>\n",
       "    </tr>\n",
       "    <tr>\n",
       "      <th>9</th>\n",
       "      <td>28</td>\n",
       "      <td>1</td>\n",
       "      <td>1</td>\n",
       "      <td>1.0</td>\n",
       "      <td>2</td>\n",
       "      <td>0.0</td>\n",
       "      <td>0.0</td>\n",
       "      <td>0</td>\n",
       "      <td>1</td>\n",
       "      <td>0</td>\n",
       "      <td>...</td>\n",
       "      <td>3</td>\n",
       "      <td>5</td>\n",
       "      <td>0</td>\n",
       "      <td>6</td>\n",
       "      <td>0</td>\n",
       "      <td>1</td>\n",
       "      <td>0</td>\n",
       "      <td>0</td>\n",
       "      <td>1</td>\n",
       "      <td>0</td>\n",
       "    </tr>\n",
       "  </tbody>\n",
       "</table>\n",
       "<p>10 rows × 59 columns</p>\n",
       "</div>"
      ],
      "text/plain": [
       "   id  target  ps_ind_01  ps_ind_02_cat  ps_ind_03  ps_ind_04_cat  \\\n",
       "0   7       0          2            2.0          5            1.0   \n",
       "1   9       0          1            1.0          7            0.0   \n",
       "2  13       0          5            4.0          9            1.0   \n",
       "3  16       0          0            1.0          2            0.0   \n",
       "4  17       0          0            2.0          0            1.0   \n",
       "5  19       0          5            1.0          4            0.0   \n",
       "6  20       0          2            1.0          3            1.0   \n",
       "7  22       0          5            1.0          4            0.0   \n",
       "8  26       0          5            1.0          3            1.0   \n",
       "9  28       1          1            1.0          2            0.0   \n",
       "\n",
       "   ps_ind_05_cat  ps_ind_06_bin  ps_ind_07_bin  ps_ind_08_bin  ...  \\\n",
       "0            0.0              0              1              0  ...   \n",
       "1            0.0              0              0              1  ...   \n",
       "2            0.0              0              0              1  ...   \n",
       "3            0.0              1              0              0  ...   \n",
       "4            0.0              1              0              0  ...   \n",
       "5            0.0              0              0              0  ...   \n",
       "6            0.0              0              1              0  ...   \n",
       "7            0.0              1              0              0  ...   \n",
       "8            0.0              0              0              1  ...   \n",
       "9            0.0              0              1              0  ...   \n",
       "\n",
       "   ps_calc_11  ps_calc_12  ps_calc_13  ps_calc_14  ps_calc_15_bin  \\\n",
       "0           9           1           5           8               0   \n",
       "1           3           1           1           9               0   \n",
       "2           4           2           7           7               0   \n",
       "3           2           2           4           9               0   \n",
       "4           3           1           1           3               0   \n",
       "5           4           2           0           9               0   \n",
       "6           3           0           0          10               0   \n",
       "7           7           1           3           6               1   \n",
       "8           4           2           1           5               0   \n",
       "9           3           5           0           6               0   \n",
       "\n",
       "   ps_calc_16_bin  ps_calc_17_bin  ps_calc_18_bin  ps_calc_19_bin  \\\n",
       "0               1               1               0               0   \n",
       "1               1               1               0               1   \n",
       "2               1               1               0               1   \n",
       "3               0               0               0               0   \n",
       "4               0               0               1               1   \n",
       "5               1               0               1               1   \n",
       "6               1               0               0               1   \n",
       "7               0               1               0               1   \n",
       "8               1               0               0               0   \n",
       "9               1               0               0               1   \n",
       "\n",
       "   ps_calc_20_bin  \n",
       "0               1  \n",
       "1               0  \n",
       "2               0  \n",
       "3               0  \n",
       "4               0  \n",
       "5               1  \n",
       "6               0  \n",
       "7               0  \n",
       "8               1  \n",
       "9               0  \n",
       "\n",
       "[10 rows x 59 columns]"
      ]
     },
     "execution_count": 9,
     "metadata": {},
     "output_type": "execute_result"
    }
   ],
   "source": [
    "display(data.dtypes) \n",
    "#data['ps_ind_05_cat'] = data['ps_ind_05_cat'].astype(int)\n",
    "data.head(10)    "
   ]
  },
  {
   "cell_type": "markdown",
   "metadata": {},
   "source": [
    "## 14.Which interval variables have strong correlation?"
   ]
  },
  {
   "cell_type": "code",
   "execution_count": 48,
   "metadata": {},
   "outputs": [
    {
     "name": "stdout",
     "output_type": "stream",
     "text": [
      "The Correlation with target value shows thatps_reg_01 and ps_reg_02 has strong Correlation \n"
     ]
    },
    {
     "data": {
      "image/png": "[encoded data removed]",
      "text/plain": [
       "<Figure size 720x720 with 2 Axes>"
      ]
     },
     "metadata": {
      "needs_background": "light"
     },
     "output_type": "display_data"
    }
   ],
   "source": [
    "Interval_variables_data=new_data[['ps_calc_01','ps_calc_02','ps_calc_03','ps_reg_01','ps_reg_02','ps_car_12','ps_car_13','ps_car_14','ps_car_15','ps_reg_03']]\n",
    "\n",
    "corrmat = Interval_variables_data.corr() \n",
    "f, ax = plt.subplots(figsize =(10,10)) \n",
    "sns.heatmap(corrmat, ax = ax, cmap =\"YlGnBu\", linewidths = 0.1)\n",
    "print(\"The Correlation with target value shows thatps_reg_01,ps_reg_02 and ps_reg_03 has strong Correlation \")"
   ]
  },
  {
   "cell_type": "markdown",
   "metadata": {},
   "source": [
    "## 15.What's the level of correlation among ordinal features? "
   ]
  },
  {
   "cell_type": "code",
   "execution_count": 50,
   "metadata": {},
   "outputs": [
    {
     "data": {
      "text/plain": [
       "<AxesSubplot:>"
      ]
     },
     "execution_count": 50,
     "metadata": {},
     "output_type": "execute_result"
    },
    {
     "data": {
      "image/png": "[encoded data removed]",
      "text/plain": [
       "<Figure size 720x720 with 2 Axes>"
      ]
     },
     "metadata": {
      "needs_background": "light"
     },
     "output_type": "display_data"
    }
   ],
   "source": [
    "corm=Ordinal_variables_data.corr()\n",
    "f, ax = plt.subplots(figsize =(10,10)) \n",
    "sns.heatmap(corm, ax = ax, cmap =\"YlGnBu\", linewidths = 0.1)\n",
    "# The Level of correlation is mostly zero among itself but it has 0.2 and 0.12 with some ordinal features\n",
    "#ps_ind_01 ,ps_ind_03 and ps_ind_15 has significant amount of Correlation\n",
    "#print(Ordinal_variables_data.columns)\n"
   ]
  },
  {
   "cell_type": "markdown",
   "metadata": {},
   "source": [
    "## 16.Implement Hot Encoding for categorical features"
   ]
  },
  {
   "cell_type": "code",
   "execution_count": 10,
   "metadata": {},
   "outputs": [
    {
     "name": "stdout",
     "output_type": "stream",
     "text": [
      "(595212, 14)\n",
      "595212\n"
     ]
    },
    {
     "name": "stderr",
     "output_type": "stream",
     "text": [
      "C:\\Users\\vikas.maurya\\AppData\\Local\\Continuum\\anaconda3\\lib\\site-packages\\sklearn\\preprocessing\\_encoders.py:371: FutureWarning: The handling of integer data will change in version 0.22. Currently, the categories are determined based on the range [0, max(values)], while in the future they will be determined based on the unique values.\n",
      "If you want the future behaviour and silence this warning, you can specify \"categories='auto'\".\n",
      "In case you used a LabelEncoder before this OneHotEncoder to convert the categories to integers, then you can now use the OneHotEncoder directly.\n",
      "  warnings.warn(msg, FutureWarning)\n"
     ]
    },
    {
     "name": "stdout",
     "output_type": "stream",
     "text": [
      "[[0. 1. 0. ... 0. 0. 0.]\n",
      " [1. 0. 0. ... 0. 0. 0.]\n",
      " [0. 0. 0. ... 0. 0. 0.]\n",
      " ...\n",
      " [1. 0. 0. ... 0. 0. 0.]\n",
      " [0. 1. 0. ... 0. 0. 0.]\n",
      " [1. 0. 0. ... 0. 0. 0.]]\n"
     ]
    },
    {
     "data": {
      "text/plain": [
       "(595212, 175)"
      ]
     },
     "execution_count": 10,
     "metadata": {},
     "output_type": "execute_result"
    }
   ],
   "source": [
    "# creating one hot encoder object by default \n",
    "# entire data passed is one hot encoded   \n",
    "\n",
    "#data[cat].to_csv(\"Catgorical.csv\")\n",
    "    \n",
    "\n",
    "integer_encoded=array(data[cat])\n",
    "print(integer_encoded.shape)\n",
    "print(len(integer_encoded))\n",
    "onehot_encoder = OneHotEncoder(sparse=False)\n",
    "onehot_encoded = onehot_encoder.fit_transform(integer_encoded)\n",
    "print(onehot_encoded)\n",
    "onehot_encoded.shape\n",
    "\n",
    "\n",
    "\n",
    "#Manual One Hot Coding Example\n",
    "\n",
    "# from numpy import argmax\n",
    "# # define input string\n",
    "# data = 'hello world'\n",
    "# print(data)\n",
    "# # define universe of possible input values\n",
    "# alphabet = 'abcdefghijklmnopqrstuvwxyz '\n",
    "# # define a mapping of chars to integers\n",
    "# char_to_int = dict((c, i) for i, c in enumerate(alphabet))\n",
    "# int_to_char = dict((i, c) for i, c in enumerate(alphabet))\n",
    "# # integer encode input data\n",
    "# integer_encoded = [char_to_int[char] for char in data]\n",
    "# print(integer_encoded)\n",
    "# # one hot encode\n",
    "# onehot_encoded = list()\n",
    "# for value in integer_encoded:\n",
    "# \tletter = [0 for _ in range(len(alphabet))]\n",
    "# \tletter[value] = 1\n",
    "# \tonehot_encoded.append(letter)\n",
    "# print(onehot_encoded)\n",
    "# # invert encoding\n",
    "# inverted = int_to_char[argmax(onehot_encoded[0])]\n",
    "# print(inverted)"
   ]
  },
  {
   "cell_type": "markdown",
   "metadata": {},
   "source": [
    "## 17.In nominal and interval features which features are suitable for StandardScaler?"
   ]
  },
  {
   "cell_type": "code",
   "execution_count": 164,
   "metadata": {},
   "outputs": [],
   "source": [
    "#Nominal featues are not suitable for StandardScaler\n",
    "\n",
    "#We can apply StandardScaler in interval features\n",
    "\n",
    "\n",
    "#scaler = StandardScaler()\n",
    "# Fit only to the training data\n",
    "# scaler.fit(data[interval])\n",
    "# Now apply the transformations to the data:\n",
    "# data[interval] = scaler.transform(data[interval])\n"
   ]
  },
  {
   "cell_type": "markdown",
   "metadata": {},
   "source": [
    "### Applying PCA for Dimension Reductionality"
   ]
  },
  {
   "cell_type": "code",
   "execution_count": 13,
   "metadata": {},
   "outputs": [
    {
     "data": {
      "text/plain": [
       "(1147036, 2)"
      ]
     },
     "execution_count": 13,
     "metadata": {},
     "output_type": "execute_result"
    }
   ],
   "source": [
    "\n",
    "from sklearn.decomposition import PCA\n",
    "\n",
    "scalar = StandardScaler() \n",
    "  \n",
    "# fitting \n",
    "scalar.fit(X_res) \n",
    "scaled_data = scalar.transform(X_res)\n",
    "  \n",
    "# Let's say, components = 2 \n",
    "pca = PCA(n_components = 2) \n",
    "pca.fit(scaled_data) \n",
    "x_pca = pca.transform(scaled_data) \n",
    "  \n",
    "x_pca.shape "
   ]
  },
  {
   "cell_type": "code",
   "execution_count": null,
   "metadata": {},
   "outputs": [],
   "source": []
  },
  {
   "cell_type": "markdown",
   "metadata": {},
   "source": [
    "## 18.Summarize the learnings of ED\n",
    "\n",
    "\n"
   ]
  },
  {
   "cell_type": "markdown",
   "metadata": {},
   "source": [
    "### Important insights from ED"
   ]
  },
  {
   "cell_type": "code",
   "execution_count": null,
   "metadata": {},
   "outputs": [],
   "source": [
    "print(\"Data is higly imblanced, target distribtion is:\")\n",
    "print(\"0 = 96.36 %\")\n",
    "print(\"1 = 3.64 %\""
   ]
  },
  {
   "cell_type": "code",
   "execution_count": null,
   "metadata": {},
   "outputs": [],
   "source": [
    "print(\" Most of the features are uncorrelated\")"
   ]
  },
  {
   "cell_type": "code",
   "execution_count": null,
   "metadata": {},
   "outputs": [],
   "source": [
    "print(\"It contains 57 features and 1 target value to predict\")"
   ]
  },
  {
   "cell_type": "markdown",
   "metadata": {},
   "source": [
    "### important steps perform in ED"
   ]
  },
  {
   "cell_type": "markdown",
   "metadata": {},
   "source": [
    "#### 1 Importing libraries : Import all the necessary libraries."
   ]
  },
  {
   "cell_type": "markdown",
   "metadata": {},
   "source": [
    "#### 2 Import the dataset  : Import the dataset using the read_csv() function of pandas. Since our dataset uses ‘;’ as a separator we are going to specify that as a parameter to the method.\n"
   ]
  },
  {
   "cell_type": "markdown",
   "metadata": {},
   "source": [
    "#### 3 Describe the dataset : describe() method of pandas shows all the statistical values of the dataset like count, mean, standard deviation, minimum, maximum, etc."
   ]
  },
  {
   "cell_type": "markdown",
   "metadata": {},
   "source": [
    "#### 4 Checking for missing values: We have several methods to handle missing values but for that, we need to know how many features have the missing value. To check missing values pandas has a method named isnull(). We will sum up all the missing values of features so that we get an idea about how many features have missing values and how many missing values are there.We can apply mean,median and mode to fill the missing value\n"
   ]
  },
  {
   "cell_type": "markdown",
   "metadata": {},
   "source": [
    "#### 5 Correlation between the columns:Finding a correlation between all the features helps to drop the highly correlated features. We can see the correlation between all the features using heatmap"
   ]
  },
  {
   "cell_type": "markdown",
   "metadata": {},
   "source": [
    "#### 6 Checking the distribution of the data: we check the frequency of the range of values,so that we can show how must data is distributed\n"
   ]
  },
  {
   "cell_type": "markdown",
   "metadata": {},
   "source": [
    "#### 7 Balancing the Data: Data is highly imbalance so applied SMOTE to do Upsampling to make data ratio 50:50"
   ]
  },
  {
   "cell_type": "markdown",
   "metadata": {},
   "source": [
    "#### 8 Encoding The data: Applied one hot Encoding to encode the data so that data is more Machine readable"
   ]
  },
  {
   "cell_type": "markdown",
   "metadata": {},
   "source": [
    "#### 9 Dimension Reductionality: To reduce the size of huge dataset into 2-3 features so that data is easliy understandable"
   ]
  },
  {
   "cell_type": "markdown",
   "metadata": {},
   "source": [
    "#### 10 : Visualization: Plot Various graph plots to understand the data very well."
   ]
  },
  {
   "cell_type": "markdown",
   "metadata": {},
   "source": [
    "## 19.A picture is worth a thousand words, explain with different graphs and visualization techniques that you have learnt what is the data telling,\n",
    "\n"
   ]
  },
  {
   "cell_type": "code",
   "execution_count": 12,
   "metadata": {},
   "outputs": [
    {
     "data": {
      "text/plain": [
       "<AxesSubplot:>"
      ]
     },
     "execution_count": 12,
     "metadata": {},
     "output_type": "execute_result"
    },
    {
     "data": {
      "image/png": "[encoded data removed]",
      "text/plain": [
       "<Figure size 720x720 with 2 Axes>"
      ]
     },
     "metadata": {
      "needs_background": "light"
     },
     "output_type": "display_data"
    }
   ],
   "source": [
    "#I learn various graph to understand the dataset.\n",
    "# Heatmap for correlation matrix is more useful for Exploratory Analysis when the dataset is very large\n",
    "corrmat = data.corr() \n",
    "f, ax = plt.subplots(figsize =(10,10)) \n",
    "sns.heatmap(corrmat, ax = ax, cmap =\"YlGnBu\", linewidths = 0.1)\n"
   ]
  },
  {
   "cell_type": "code",
   "execution_count": 13,
   "metadata": {},
   "outputs": [
    {
     "name": "stdout",
     "output_type": "stream",
     "text": [
      "Percentge distribution of class '1' & class '0':\n",
      "\n",
      " 0    96.355248\n",
      "1     3.644752\n",
      "Name: target, dtype: float64\n"
     ]
    },
    {
     "data": {
      "image/png": "[encoded data removed]",
      "text/plain": [
       "<Figure size 432x288 with 1 Axes>"
      ]
     },
     "metadata": {
      "needs_background": "light"
     },
     "output_type": "display_data"
    }
   ],
   "source": [
    "#To understand distribution between single column I used Bar chart\n",
    "perc = (data['target'].value_counts()/(data.shape[0]))*100\n",
    "print(\"Percentge distribution of class '1' & class '0':\\n\\n\",perc)\n",
    "perc.plot.bar();"
   ]
  },
  {
   "cell_type": "code",
   "execution_count": null,
   "metadata": {},
   "outputs": [],
   "source": [
    "# temp = data[:2000]\n",
    "# sns.pairplot(data=temp, kind='scatter',diag_kind='kde')"
   ]
  },
  {
   "cell_type": "code",
   "execution_count": 7,
   "metadata": {},
   "outputs": [
    {
     "data": {
      "image/png": "[encoded data removed]",
      "text/plain": [
       "<Figure size 432x288 with 1 Axes>"
      ]
     },
     "metadata": {
      "needs_background": "light"
     },
     "output_type": "display_data"
    }
   ],
   "source": [
    "x=data['ps_car_13'].head(100)\n",
    "y=data['target'].head(100)\n",
    "plt.scatter(x, y)\n",
    "plt.show()"
   ]
  },
  {
   "cell_type": "code",
   "execution_count": 8,
   "metadata": {},
   "outputs": [
    {
     "data": {
      "image/png": "[encoded data removed]",
      "text/plain": [
       "<Figure size 432x288 with 1 Axes>"
      ]
     },
     "metadata": {
      "needs_background": "light"
     },
     "output_type": "display_data"
    }
   ],
   "source": [
    "plt.plot(x, y)  # Plot the chart \n",
    "plt.show()"
   ]
  },
  {
   "cell_type": "markdown",
   "metadata": {},
   "source": [
    "#### After plotting various graph chart i.e.Heamap,barchart,plot etc. I can say that data is highly imbalance and contain missing values.Additionally most of the data independent to each other and some are negatively coorelated to target."
   ]
  },
  {
   "cell_type": "markdown",
   "metadata": {},
   "source": [
    "## 20.Draw a mind map to high light the pain that can be identified from the dataset\n",
    "\n"
   ]
  },
  {
   "cell_type": "code",
   "execution_count": null,
   "metadata": {},
   "outputs": [],
   "source": [
    "#optional"
   ]
  },
  {
   "cell_type": "markdown",
   "metadata": {},
   "source": [
    "# Modeling Starts From Here"
   ]
  },
  {
   "cell_type": "markdown",
   "metadata": {},
   "source": [
    "### Function to calculate Accuracy_Score,Classification_report etc. "
   ]
  },
  {
   "cell_type": "code",
   "execution_count": 16,
   "metadata": {},
   "outputs": [],
   "source": [
    "def accuracy_result(y_test, y_pred_test):\n",
    "    from sklearn import metrics\n",
    "    from sklearn.metrics import confusion_matrix, classification_report\n",
    "    confusion_matrix=metrics.confusion_matrix(y_test, y_pred_test)\n",
    "    # USE THE IMPORTED CONFUSION MATRIX\n",
    "    print('\\n CONFUSION MATRIX:\\n ', confusion_matrix,'\\n')\n",
    "    TP = confusion_matrix[1, 1]\n",
    "    TN = confusion_matrix[0, 0]\n",
    "    FP = confusion_matrix[0, 1]\n",
    "    FN = confusion_matrix[1, 0]\n",
    "    false_positive_rate = round(FP / float(TN + FP),3)\n",
    "    print('FPR: ', false_positive_rate)\n",
    "    print('TPR/ RECALL/ SENSTIVITY: ', round(metrics.recall_score(y_test, y_pred_test), 3))\n",
    "    print('PRECISION:' ,round(metrics.precision_score(y_test, y_pred_test), 3))\n",
    "    specificity = round(TN / (TN + FP),3)\n",
    "    print('SPECIFICITY: ',specificity)\n",
    "    print('ACCURACY: ', np.round(metrics.accuracy_score(y_test, y_pred_test),3))\n",
    "    print('ROC AUC: ', np.round(roc_auc_score(y_test, y_pred_test),3))\n",
    "    print('Cohens kappa: ',np.round(cohen_kappa_score(y_test, y_pred_test),3))\n",
    "    print('F1 score: ', np.round(f1_score(y_test, y_pred_test),3))\n",
    "    print('\\n CLASSIFICATION REPORT: \\n',classification_report(y_test,y_pred_test))\n",
    "    return "
   ]
  },
  {
   "cell_type": "markdown",
   "metadata": {},
   "source": []
  },
  {
   "cell_type": "markdown",
   "metadata": {},
   "source": [
    "### Without Balancing the data "
   ]
  },
  {
   "cell_type": "code",
   "execution_count": 63,
   "metadata": {},
   "outputs": [],
   "source": [
    "X_imbalance=data.iloc[:,2:]\n",
    "Y_imbalance=data[\"target\"]"
   ]
  },
  {
   "cell_type": "code",
   "execution_count": 64,
   "metadata": {},
   "outputs": [
    {
     "data": {
      "text/plain": [
       "(917628, 57)"
      ]
     },
     "execution_count": 64,
     "metadata": {},
     "output_type": "execute_result"
    }
   ],
   "source": [
    "x_train1, x_test1, y_train1, y_test1 = train_test_split(X_imbalance,Y_imbalance,test_size=0.2,random_state=20)\n",
    "x_train.shape"
   ]
  },
  {
   "cell_type": "code",
   "execution_count": 59,
   "metadata": {},
   "outputs": [
    {
     "name": "stderr",
     "output_type": "stream",
     "text": [
      "C:\\Users\\vikas.maurya\\AppData\\Local\\Continuum\\anaconda3\\lib\\site-packages\\sklearn\\linear_model\\logistic.py:433: FutureWarning: Default solver will be changed to 'lbfgs' in 0.22. Specify a solver to silence this warning.\n",
      "  FutureWarning)\n"
     ]
    },
    {
     "name": "stdout",
     "output_type": "stream",
     "text": [
      "[0 1]\n",
      "\n",
      " CONFUSION MATRIX:\n",
      "  [[114665      0]\n",
      " [  4378      0]] \n",
      "\n",
      "FPR:  0.0\n",
      "TPR/ RECALL/ SENSTIVITY:  0.0\n",
      "PRECISION: 0.0\n",
      "SPECIFICITY:  1.0\n",
      "ACCURACY:  0.963\n",
      "ROC AUC:  0.5\n"
     ]
    },
    {
     "name": "stderr",
     "output_type": "stream",
     "text": [
      "C:\\Users\\vikas.maurya\\AppData\\Local\\Continuum\\anaconda3\\lib\\site-packages\\sklearn\\metrics\\classification.py:1143: UndefinedMetricWarning: Precision is ill-defined and being set to 0.0 due to no predicted samples.\n",
      "  'precision', 'predicted', average, warn_for)\n",
      "C:\\Users\\vikas.maurya\\AppData\\Local\\Continuum\\anaconda3\\lib\\site-packages\\sklearn\\metrics\\classification.py:1143: UndefinedMetricWarning: F-score is ill-defined and being set to 0.0 due to no predicted samples.\n",
      "  'precision', 'predicted', average, warn_for)\n",
      "C:\\Users\\vikas.maurya\\AppData\\Local\\Continuum\\anaconda3\\lib\\site-packages\\sklearn\\metrics\\classification.py:1143: UndefinedMetricWarning: Precision and F-score are ill-defined and being set to 0.0 in labels with no predicted samples.\n",
      "  'precision', 'predicted', average, warn_for)\n",
      "C:\\Users\\vikas.maurya\\AppData\\Local\\Continuum\\anaconda3\\lib\\site-packages\\sklearn\\metrics\\classification.py:1143: UndefinedMetricWarning: Precision and F-score are ill-defined and being set to 0.0 in labels with no predicted samples.\n",
      "  'precision', 'predicted', average, warn_for)\n"
     ]
    },
    {
     "name": "stdout",
     "output_type": "stream",
     "text": [
      "Cohens kappa:  0.0\n",
      "F1 score:  0.0\n",
      "\n",
      " CLASSIFICATION REPORT: \n",
      "               precision    recall  f1-score   support\n",
      "\n",
      "           0       0.96      1.00      0.98    114665\n",
      "           1       0.00      0.00      0.00      4378\n",
      "\n",
      "   micro avg       0.96      0.96      0.96    119043\n",
      "   macro avg       0.48      0.50      0.49    119043\n",
      "weighted avg       0.93      0.96      0.95    119043\n",
      "\n"
     ]
    },
    {
     "name": "stderr",
     "output_type": "stream",
     "text": [
      "C:\\Users\\vikas.maurya\\AppData\\Local\\Continuum\\anaconda3\\lib\\site-packages\\sklearn\\metrics\\classification.py:1143: UndefinedMetricWarning: Precision and F-score are ill-defined and being set to 0.0 in labels with no predicted samples.\n",
      "  'precision', 'predicted', average, warn_for)\n"
     ]
    }
   ],
   "source": [
    "model_Log=LogisticRegression()\n",
    "model_Log.fit(x_train1,y_train1)\n",
    "print(model_Log.classes_)\n",
    "predictions_log = model_Log.predict(x_test1)\n",
    "\n",
    "accuracy_result(y_test1, predictions_log)\n",
    "\n",
    "# print(classification_report(y_test, predictions_log))\n",
    "# print(confusion_matrix(y_test, predictions_log))\n",
    "# print(accuracy_score(y_test, predictions_log))"
   ]
  },
  {
   "cell_type": "code",
   "execution_count": 65,
   "metadata": {},
   "outputs": [
    {
     "data": {
      "text/plain": [
       "(119043,)"
      ]
     },
     "execution_count": 65,
     "metadata": {},
     "output_type": "execute_result"
    }
   ],
   "source": [
    "predictions_log.shape"
   ]
  },
  {
   "cell_type": "code",
   "execution_count": null,
   "metadata": {},
   "outputs": [],
   "source": []
  },
  {
   "cell_type": "markdown",
   "metadata": {},
   "source": [
    "## 1.The Simple LogisticRegression Model seem to have high accuracy. Is that what we need at all? What is the problem with this model?"
   ]
  },
  {
   "cell_type": "code",
   "execution_count": 6,
   "metadata": {},
   "outputs": [
    {
     "name": "stdout",
     "output_type": "stream",
     "text": [
      "The Logistic Regression giving very High Accuracy i.e. 96.32% but Data is highly imbalance which causes bias in the model\n",
      "It is predicting only one class.This will be going to perform very bad in future.We don't want this kind of models\n"
     ]
    }
   ],
   "source": [
    "print(\"The Logistic Regression giving very High Accuracy i.e. 96.32% but Data is highly imbalance which causes bias in the model\")\n",
    "print(\"It is predicting only one class.This will be going to perform very bad in future.We don't want this kind of models\")"
   ]
  },
  {
   "cell_type": "markdown",
   "metadata": {},
   "source": [
    "## 2. Why do you think f1-score is 0.0?"
   ]
  },
  {
   "cell_type": "code",
   "execution_count": null,
   "metadata": {},
   "outputs": [],
   "source": [
    "print(\"Since the  False Negative is 0 in the confusion Matrix,F-1 Score it the Arithmetic or Geometric Mean of Precision and Recall\")\n",
    "print(\"Hence the F-1 score is 0\")\n",
    "print(\"This all because of Data is imbalance\")"
   ]
  },
  {
   "cell_type": "code",
   "execution_count": 11,
   "metadata": {},
   "outputs": [],
   "source": []
  },
  {
   "cell_type": "markdown",
   "metadata": {},
   "source": [
    "## 3.What is the precision and recall score for the model?"
   ]
  },
  {
   "cell_type": "code",
   "execution_count": null,
   "metadata": {},
   "outputs": [],
   "source": [
    "print(\"The Precision for class 0 is 0.96 and for class 1 is 0 \")\n",
    "print(\"The Recall for class 0 is 1 and for class 1 is 0 \")"
   ]
  },
  {
   "cell_type": "markdown",
   "metadata": {},
   "source": [
    "## 4. What is the most important inference you can draw from the result?"
   ]
  },
  {
   "cell_type": "code",
   "execution_count": null,
   "metadata": {},
   "outputs": [],
   "source": [
    "print(\"Data is Highly Imbalance which causes irregular precision,recall,support and F-1 score for the class.\")\n",
    "print(\"In future if we deploy the model it will give wrong results so We need to Balance the data to get right model\")"
   ]
  },
  {
   "cell_type": "markdown",
   "metadata": {},
   "source": [
    "## 5. What is the accuracy score and f1-score for the improved Logistic Regression model?"
   ]
  },
  {
   "cell_type": "code",
   "execution_count": 22,
   "metadata": {},
   "outputs": [],
   "source": [
    "# data_upsampled.head()\n",
    "# X_improve=data_upsampled.iloc[:,2:]\n",
    "# Y_improve=data_upsampled[\"target\"]"
   ]
  },
  {
   "cell_type": "code",
   "execution_count": 61,
   "metadata": {},
   "outputs": [
    {
     "data": {
      "text/plain": [
       "(917628, 57)"
      ]
     },
     "execution_count": 61,
     "metadata": {},
     "output_type": "execute_result"
    }
   ],
   "source": [
    "x_train, x_test, y_train, y_test = train_test_split(X_res, y_res,test_size=0.2,random_state=20)\n",
    "x_train.shape"
   ]
  },
  {
   "cell_type": "code",
   "execution_count": 14,
   "metadata": {},
   "outputs": [
    {
     "name": "stderr",
     "output_type": "stream",
     "text": [
      "C:\\Users\\vikas.maurya\\AppData\\Local\\Continuum\\anaconda3\\lib\\site-packages\\sklearn\\linear_model\\logistic.py:433: FutureWarning: Default solver will be changed to 'lbfgs' in 0.22. Specify a solver to silence this warning.\n",
      "  FutureWarning)\n"
     ]
    },
    {
     "data": {
      "text/plain": [
       "array([0, 1], dtype=int64)"
      ]
     },
     "execution_count": 14,
     "metadata": {},
     "output_type": "execute_result"
    }
   ],
   "source": [
    "model=LogisticRegression()\n",
    "model.fit(x_train,y_train)\n",
    "model.classes_\n"
   ]
  },
  {
   "cell_type": "code",
   "execution_count": 17,
   "metadata": {},
   "outputs": [
    {
     "name": "stdout",
     "output_type": "stream",
     "text": [
      "\n",
      " CONFUSION MATRIX:\n",
      "  [[70374 44757]\n",
      " [49983 64294]] \n",
      "\n",
      "FPR:  0.389\n",
      "TPR/ RECALL/ SENSTIVITY:  0.563\n",
      "PRECISION: 0.59\n",
      "SPECIFICITY:  0.611\n",
      "ACCURACY:  0.587\n",
      "ROC AUC:  0.587\n",
      "Cohens kappa:  0.174\n",
      "F1 score:  0.576\n",
      "\n",
      " CLASSIFICATION REPORT: \n",
      "               precision    recall  f1-score   support\n",
      "\n",
      "           0       0.58      0.61      0.60    115131\n",
      "           1       0.59      0.56      0.58    114277\n",
      "\n",
      "   micro avg       0.59      0.59      0.59    229408\n",
      "   macro avg       0.59      0.59      0.59    229408\n",
      "weighted avg       0.59      0.59      0.59    229408\n",
      "\n"
     ]
    }
   ],
   "source": [
    "predictions_slog = model.predict(x_test)\n",
    "accuracy_result(y_test, predictions_slog)"
   ]
  },
  {
   "cell_type": "code",
   "execution_count": 14,
   "metadata": {},
   "outputs": [
    {
     "name": "stderr",
     "output_type": "stream",
     "text": [
      "C:\\Users\\vikas.maurya\\AppData\\Local\\Continuum\\anaconda3\\lib\\site-packages\\sklearn\\linear_model\\logistic.py:433: FutureWarning: Default solver will be changed to 'lbfgs' in 0.22. Specify a solver to silence this warning.\n",
      "  FutureWarning)\n"
     ]
    },
    {
     "data": {
      "text/plain": [
       "array([0, 1], dtype=int64)"
      ]
     },
     "execution_count": 14,
     "metadata": {},
     "output_type": "execute_result"
    }
   ],
   "source": [
    "#After Applying PCA\n",
    "x_train, x_test, y_train, y_test = train_test_split(x_pca, y_res,test_size=0.2,random_state=20)\n",
    "x_train.shape\n",
    "model_PCA=LogisticRegression()\n",
    "model_PCA.fit(x_train,y_train)\n",
    "model_PCA.classes_"
   ]
  },
  {
   "cell_type": "code",
   "execution_count": 15,
   "metadata": {},
   "outputs": [
    {
     "name": "stdout",
     "output_type": "stream",
     "text": [
      "\n",
      " CONFUSION MATRIX:\n",
      "  [[73396 41735]\n",
      " [57739 56538]] \n",
      "\n",
      "FPR:  0.363\n",
      "TPR/ RECALL/ SENSTIVITY:  0.495\n",
      "PRECISION: 0.575\n",
      "SPECIFICITY:  0.637\n",
      "ACCURACY:  0.566\n",
      "ROC AUC:  0.566\n",
      "Cohens kappa:  0.132\n",
      "F1 score:  0.532\n",
      "\n",
      " CLASSIFICATION REPORT: \n",
      "               precision    recall  f1-score   support\n",
      "\n",
      "           0       0.56      0.64      0.60    115131\n",
      "           1       0.58      0.49      0.53    114277\n",
      "\n",
      "   micro avg       0.57      0.57      0.57    229408\n",
      "   macro avg       0.57      0.57      0.56    229408\n",
      "weighted avg       0.57      0.57      0.56    229408\n",
      "\n"
     ]
    }
   ],
   "source": [
    "#After Applying PCA\n",
    "predictions_slog = model_PCA.predict(x_test)\n",
    "accuracy_result(y_test, predictions_slog)"
   ]
  },
  {
   "cell_type": "code",
   "execution_count": 19,
   "metadata": {},
   "outputs": [
    {
     "name": "stdout",
     "output_type": "stream",
     "text": [
      "After Applying PCA not getting any significant imrovement to the model accuracy and f1_score\n"
     ]
    }
   ],
   "source": [
    "print(\"After Applying PCA not getting any significant imrovement to the model accuracy and f1_score\")"
   ]
  },
  {
   "cell_type": "markdown",
   "metadata": {},
   "source": [
    "## 6. Why do you think f1-score has improved?"
   ]
  },
  {
   "cell_type": "code",
   "execution_count": null,
   "metadata": {},
   "outputs": [],
   "source": [
    "print(\"Since the data is now balanced which causes in improve of f1-score\")\n",
    "print(\"Precison and recall is also improves which significantly improve the f1-score\")"
   ]
  },
  {
   "cell_type": "markdown",
   "metadata": {},
   "source": [
    "## 7. For model LinearSVC play with parameters –dual, max_iter and see if there is any improvement"
   ]
  },
  {
   "cell_type": "code",
   "execution_count": 20,
   "metadata": {},
   "outputs": [
    {
     "name": "stdout",
     "output_type": "stream",
     "text": [
      "LinearSVC(C=1.0, class_weight=None, dual=False, fit_intercept=True,\n",
      "     intercept_scaling=1, loss='squared_hinge', max_iter=1000,\n",
      "     multi_class='ovr', penalty='l2', random_state=None, tol=0.0001,\n",
      "     verbose=0)\n",
      "\n",
      " CONFUSION MATRIX:\n",
      "  [[70524 44607]\n",
      " [50190 64087]] \n",
      "\n",
      "FPR:  0.387\n",
      "TPR/ RECALL/ SENSTIVITY:  0.561\n",
      "PRECISION: 0.59\n",
      "SPECIFICITY:  0.613\n",
      "ACCURACY:  0.587\n",
      "ROC AUC:  0.587\n",
      "Cohens kappa:  0.173\n",
      "F1 score:  0.575\n",
      "\n",
      " CLASSIFICATION REPORT: \n",
      "               precision    recall  f1-score   support\n",
      "\n",
      "           0       0.58      0.61      0.60    115131\n",
      "           1       0.59      0.56      0.57    114277\n",
      "\n",
      "   micro avg       0.59      0.59      0.59    229408\n",
      "   macro avg       0.59      0.59      0.59    229408\n",
      "weighted avg       0.59      0.59      0.59    229408\n",
      "\n"
     ]
    }
   ],
   "source": [
    "x_trainl, x_test, y_trainl, y_test = train_test_split(X_res, y_res,test_size=0.2,random_state=20)\n",
    "svc_model = LinearSVC(dual=False,max_iter=1000)\n",
    "print(svc_model)\n",
    "svc_model.fit(x_trainl,y_trainl)\n",
    "predictions_lsvc = svc_model.predict(x_test)\n",
    "accuracy_result(y_test,predictions_lsvc)"
   ]
  },
  {
   "cell_type": "code",
   "execution_count": 16,
   "metadata": {},
   "outputs": [
    {
     "name": "stdout",
     "output_type": "stream",
     "text": [
      "For LinearSVC if we choose dual=True it will take more time to train since It tries to optimize but since n_samples > n_features we will choose dual=False\n",
      "As we change the max_iter it is not changing the accuracy\n"
     ]
    }
   ],
   "source": [
    "print(\"For LinearSVC if we choose dual=True it will take more time to train since It tries to optimize but since n_samples > n_features we will choose dual=False\")\n",
    "print(\"As we change the max_iter it is not changing the accuracy that is no improvement \")"
   ]
  },
  {
   "cell_type": "code",
   "execution_count": null,
   "metadata": {},
   "outputs": [],
   "source": []
  },
  {
   "cell_type": "code",
   "execution_count": null,
   "metadata": {},
   "outputs": [],
   "source": []
  },
  {
   "cell_type": "code",
   "execution_count": null,
   "metadata": {},
   "outputs": [],
   "source": []
  },
  {
   "cell_type": "markdown",
   "metadata": {},
   "source": [
    "## 8. For --SVC with Imbalance Check & Feature Optimization & only 100K Records is there improvement in scores?"
   ]
  },
  {
   "cell_type": "code",
   "execution_count": 21,
   "metadata": {},
   "outputs": [],
   "source": [
    "x_tr=x_train[:10000,:]\n",
    "y_tr=y_train[:10000]"
   ]
  },
  {
   "cell_type": "code",
   "execution_count": 22,
   "metadata": {},
   "outputs": [
    {
     "data": {
      "text/plain": [
       "SVC(C=1.0, cache_size=200, class_weight=None, coef0=0.0,\n",
       "  decision_function_shape='ovr', degree=3, gamma='auto_deprecated',\n",
       "  kernel='linear', max_iter=-1, probability=False, random_state=None,\n",
       "  shrinking=True, tol=0.001, verbose=False)"
      ]
     },
     "execution_count": 22,
     "metadata": {},
     "output_type": "execute_result"
    }
   ],
   "source": [
    "from sklearn.model_selection import train_test_split\n",
    "x_train, x_test, y_train, y_test = train_test_split(x_tr, y_tr,test_size=0.2,random_state=20)\n",
    "#Create a svm Classifier\n",
    "clf = SVC(kernel='linear')\n",
    "# FIT SVC ON TRAINING DATA\n",
    "clf.fit(x_train, y_train)\n"
   ]
  },
  {
   "cell_type": "code",
   "execution_count": 23,
   "metadata": {},
   "outputs": [
    {
     "name": "stdout",
     "output_type": "stream",
     "text": [
      "\n",
      " CONFUSION MATRIX:\n",
      "  [[663 338]\n",
      " [475 524]] \n",
      "\n",
      "FPR:  0.338\n",
      "TPR/ RECALL/ SENSTIVITY:  0.525\n",
      "PRECISION: 0.608\n",
      "SPECIFICITY:  0.662\n",
      "ACCURACY:  0.594\n",
      "ROC AUC:  0.593\n",
      "Cohens kappa:  0.187\n",
      "F1 score:  0.563\n",
      "\n",
      " CLASSIFICATION REPORT: \n",
      "               precision    recall  f1-score   support\n",
      "\n",
      "           0       0.58      0.66      0.62      1001\n",
      "           1       0.61      0.52      0.56       999\n",
      "\n",
      "   micro avg       0.59      0.59      0.59      2000\n",
      "   macro avg       0.60      0.59      0.59      2000\n",
      "weighted avg       0.60      0.59      0.59      2000\n",
      "\n"
     ]
    }
   ],
   "source": [
    "predictions_svc=clf.predict(x_test)\n",
    "accuracy_result(y_test,predictions_svc)"
   ]
  },
  {
   "cell_type": "markdown",
   "metadata": {},
   "source": [
    "## 9. XGBoost is one the better classifiers --but still f1-score is very low. What could be the reason?"
   ]
  },
  {
   "cell_type": "code",
   "execution_count": 24,
   "metadata": {},
   "outputs": [],
   "source": [
    "x_trainxg, x_test, y_trainxg, y_test = train_test_split(X_res, y_res,test_size=0.2,random_state=20)"
   ]
  },
  {
   "cell_type": "code",
   "execution_count": 25,
   "metadata": {},
   "outputs": [],
   "source": [
    "xgbc = XGBClassifier()\n",
    "model=xgbc.fit(x_trainxg,y_trainxg)"
   ]
  },
  {
   "cell_type": "code",
   "execution_count": null,
   "metadata": {},
   "outputs": [
    {
     "name": "stdout",
     "output_type": "stream",
     "text": [
      "Mean cross-validation score: 0.98\n"
     ]
    }
   ],
   "source": [
    "#check the training accuracy with cross-validation and k-fold methods.\n",
    "scores = cross_val_score(xgbc, x_train, y_train, cv=5)\n",
    "print(\"Mean cross-validation score: %.2f\" % scores.mean())\n",
    " \n",
    "kfold = KFold(n_splits=10, shuffle=True)\n",
    "kf_cv_scores = cross_val_score(xgbc, x_train, y_train, cv=kfold )\n",
    "print(\"K-fold CV average score: %.2f\" % kf_cv_scores.mean())"
   ]
  },
  {
   "cell_type": "code",
   "execution_count": 30,
   "metadata": {},
   "outputs": [
    {
     "name": "stdout",
     "output_type": "stream",
     "text": [
      "\n",
      " CONFUSION MATRIX:\n",
      "  [[115131      0]\n",
      " [  4600 109677]] \n",
      "\n",
      "FPR:  0.0\n",
      "TPR/ RECALL/ SENSTIVITY:  0.96\n",
      "PRECISION: 1.0\n",
      "SPECIFICITY:  1.0\n",
      "ACCURACY:  0.98\n",
      "ROC AUC:  0.98\n",
      "Cohens kappa:  0.96\n",
      "F1 score:  0.979\n",
      "\n",
      " CLASSIFICATION REPORT: \n",
      "               precision    recall  f1-score   support\n",
      "\n",
      "           0       0.96      1.00      0.98    115131\n",
      "           1       1.00      0.96      0.98    114277\n",
      "\n",
      "   micro avg       0.98      0.98      0.98    229408\n",
      "   macro avg       0.98      0.98      0.98    229408\n",
      "weighted avg       0.98      0.98      0.98    229408\n",
      "\n"
     ]
    }
   ],
   "source": [
    "predictions_xgbc = xgbc.predict(x_test)\n",
    "accuracy_result(y_test,predictions_xgbc)"
   ]
  },
  {
   "cell_type": "code",
   "execution_count": null,
   "metadata": {},
   "outputs": [],
   "source": []
  },
  {
   "cell_type": "markdown",
   "metadata": {},
   "source": [
    "## 10. What is the increase in number of features after onehotencoding of the data?"
   ]
  },
  {
   "cell_type": "code",
   "execution_count": 45,
   "metadata": {},
   "outputs": [],
   "source": [
    "df=pd.DataFrame(X_res,columns=['ps_ind_01', 'ps_ind_02_cat', 'ps_ind_03',\n",
    "       'ps_ind_04_cat', 'ps_ind_05_cat', 'ps_ind_06_bin', 'ps_ind_07_bin',\n",
    "       'ps_ind_08_bin', 'ps_ind_09_bin', 'ps_ind_10_bin', 'ps_ind_11_bin',\n",
    "       'ps_ind_12_bin', 'ps_ind_13_bin', 'ps_ind_14', 'ps_ind_15',\n",
    "       'ps_ind_16_bin', 'ps_ind_17_bin', 'ps_ind_18_bin', 'ps_reg_01',\n",
    "       'ps_reg_02', 'ps_reg_03', 'ps_car_01_cat', 'ps_car_02_cat',\n",
    "       'ps_car_03_cat', 'ps_car_04_cat', 'ps_car_05_cat', 'ps_car_06_cat',\n",
    "       'ps_car_07_cat', 'ps_car_08_cat', 'ps_car_09_cat', 'ps_car_10_cat',\n",
    "       'ps_car_11_cat', 'ps_car_11', 'ps_car_12', 'ps_car_13', 'ps_car_14',\n",
    "       'ps_car_15', 'ps_calc_01', 'ps_calc_02', 'ps_calc_03', 'ps_calc_04',\n",
    "       'ps_calc_05', 'ps_calc_06', 'ps_calc_07', 'ps_calc_08', 'ps_calc_09',\n",
    "       'ps_calc_10', 'ps_calc_11', 'ps_calc_12', 'ps_calc_13', 'ps_calc_14',\n",
    "       'ps_calc_15_bin', 'ps_calc_16_bin', 'ps_calc_17_bin', 'ps_calc_18_bin',\n",
    "       'ps_calc_19_bin', 'ps_calc_20_bin'])"
   ]
  },
  {
   "cell_type": "code",
   "execution_count": 46,
   "metadata": {},
   "outputs": [
    {
     "name": "stdout",
     "output_type": "stream",
     "text": [
      "(1147036, 14)\n",
      "1147036\n"
     ]
    },
    {
     "name": "stderr",
     "output_type": "stream",
     "text": [
      "C:\\Users\\vikas.maurya\\AppData\\Local\\Continuum\\anaconda3\\lib\\site-packages\\sklearn\\preprocessing\\_encoders.py:371: FutureWarning: The handling of integer data will change in version 0.22. Currently, the categories are determined based on the range [0, max(values)], while in the future they will be determined based on the unique values.\n",
      "If you want the future behaviour and silence this warning, you can specify \"categories='auto'\".\n",
      "In case you used a LabelEncoder before this OneHotEncoder to convert the categories to integers, then you can now use the OneHotEncoder directly.\n",
      "  warnings.warn(msg, FutureWarning)\n"
     ]
    },
    {
     "name": "stdout",
     "output_type": "stream",
     "text": [
      "[[0. 1. 0. ... 0. 0. 0.]\n",
      " [1. 0. 0. ... 0. 0. 0.]\n",
      " [0. 0. 0. ... 0. 0. 0.]\n",
      " ...\n",
      " [0. 0. 1. ... 0. 0. 0.]\n",
      " [1. 0. 0. ... 0. 0. 0.]\n",
      " [1. 0. 0. ... 0. 0. 1.]]\n"
     ]
    },
    {
     "data": {
      "text/plain": [
       "(1147036, 175)"
      ]
     },
     "execution_count": 46,
     "metadata": {},
     "output_type": "execute_result"
    }
   ],
   "source": [
    "integer_encoded=array(df[cat])\n",
    "print(integer_encoded.shape)\n",
    "print(len(integer_encoded))\n",
    "onehot_encoder = OneHotEncoder(sparse=False)\n",
    "#integer_encoded = integer_encoded.reshape(len(integer_encoded), 1)\n",
    "onehot_encoded = onehot_encoder.fit_transform(integer_encoded)\n",
    "print(onehot_encoded)\n",
    "onehot_encoded.shape"
   ]
  },
  {
   "cell_type": "code",
   "execution_count": 47,
   "metadata": {},
   "outputs": [],
   "source": [
    "df.drop(cat,axis=1,inplace=True)"
   ]
  },
  {
   "cell_type": "code",
   "execution_count": 48,
   "metadata": {},
   "outputs": [],
   "source": [
    "df.shape\n",
    "df1=pd.DataFrame(onehot_encoded)"
   ]
  },
  {
   "cell_type": "code",
   "execution_count": 49,
   "metadata": {},
   "outputs": [],
   "source": [
    "onehot_data=pd.concat([df, df1], axis=1) "
   ]
  },
  {
   "cell_type": "code",
   "execution_count": 50,
   "metadata": {},
   "outputs": [
    {
     "data": {
      "text/plain": [
       "(1147036, 218)"
      ]
     },
     "execution_count": 50,
     "metadata": {},
     "output_type": "execute_result"
    }
   ],
   "source": [
    "onehot_data.shape"
   ]
  },
  {
   "cell_type": "code",
   "execution_count": 51,
   "metadata": {},
   "outputs": [
    {
     "name": "stdout",
     "output_type": "stream",
     "text": [
      "Number of features increased from 57 to 218\n"
     ]
    }
   ],
   "source": [
    "print(\"Number of features increased from 57 to 218\")\n",
    "#y_res.shape"
   ]
  },
  {
   "cell_type": "markdown",
   "metadata": {},
   "source": [
    "## 11. Is there any improvement in scores after encoding?"
   ]
  },
  {
   "cell_type": "code",
   "execution_count": 52,
   "metadata": {},
   "outputs": [
    {
     "name": "stderr",
     "output_type": "stream",
     "text": [
      "C:\\Users\\vikas.maurya\\AppData\\Local\\Continuum\\anaconda3\\lib\\site-packages\\sklearn\\linear_model\\logistic.py:433: FutureWarning: Default solver will be changed to 'lbfgs' in 0.22. Specify a solver to silence this warning.\n",
      "  FutureWarning)\n"
     ]
    },
    {
     "name": "stdout",
     "output_type": "stream",
     "text": [
      "[0 1]\n",
      "\n",
      " CONFUSION MATRIX:\n",
      "  [[87191 27940]\n",
      " [33653 80624]] \n",
      "\n",
      "FPR:  0.243\n",
      "TPR/ RECALL/ SENSTIVITY:  0.706\n",
      "PRECISION: 0.743\n",
      "SPECIFICITY:  0.757\n",
      "ACCURACY:  0.732\n",
      "ROC AUC:  0.731\n",
      "Cohens kappa:  0.463\n",
      "F1 score:  0.724\n",
      "\n",
      " CLASSIFICATION REPORT: \n",
      "               precision    recall  f1-score   support\n",
      "\n",
      "           0       0.72      0.76      0.74    115131\n",
      "           1       0.74      0.71      0.72    114277\n",
      "\n",
      "   micro avg       0.73      0.73      0.73    229408\n",
      "   macro avg       0.73      0.73      0.73    229408\n",
      "weighted avg       0.73      0.73      0.73    229408\n",
      "\n"
     ]
    }
   ],
   "source": [
    "x_train, x_test, y_train, y_test = train_test_split(onehot_data, y_res,test_size=0.2,random_state=20)\n",
    "model_Log=LogisticRegression()\n",
    "model_Log.fit(x_train,y_train)\n",
    "print(model_Log.classes_)\n",
    "predictions_log = model_Log.predict(x_test)\n",
    "\n",
    "accuracy_result(y_test, predictions_log)"
   ]
  },
  {
   "cell_type": "code",
   "execution_count": null,
   "metadata": {},
   "outputs": [],
   "source": [
    "print(\"After Encoding the model performed well than previous it is giving higher accuracy\")"
   ]
  },
  {
   "cell_type": "markdown",
   "metadata": {},
   "source": [
    "## 12. If not missing a positive sample is the priority which model is best so far?"
   ]
  },
  {
   "cell_type": "code",
   "execution_count": null,
   "metadata": {},
   "outputs": [],
   "source": [
    "print(confusion_matrix(y_test,predictions_slog))\n",
    "# CONFUSION MATRIX:\n",
    "# [[73396 41735]\n",
    "# [57739 56538]] \n",
    "\n",
    "\n",
    "print(confusion_matrix(y_test,predictions_lsvc))\n",
    "\n",
    "#CONFUSION MATRIX:\n",
    "#  [[70524 44607]\n",
    "# [50190 64087]] \n",
    "\n",
    "\n",
    "print(confusion_matrix(y_test,predictions_xgbc))\n",
    "#CONFUSION MATRIX:\n",
    "# [[115131      0]\n",
    "#[  4600 109677]] "
   ]
  },
  {
   "cell_type": "markdown",
   "metadata": {},
   "source": [
    "### XGBoost model is performing best.Count of missing positive sample is 4600 only."
   ]
  },
  {
   "cell_type": "markdown",
   "metadata": {},
   "source": [
    "## 13. If not marking negative sample as positive is top priority, which model is best so far?"
   ]
  },
  {
   "cell_type": "code",
   "execution_count": null,
   "metadata": {},
   "outputs": [],
   "source": [
    "print(confusion_matrix(y_test,predictions_slog))\n",
    "# CONFUSION MATRIX:\n",
    "# [[73396 41735]\n",
    "# [57739 56538]] \n",
    "\n",
    "\n",
    "print(confusion_matrix(y_test,predictions_lsvc))\n",
    "\n",
    "#CONFUSION MATRIX:\n",
    "#  [[70524 44607]\n",
    "# [50190 64087]] \n",
    "\n",
    "\n",
    "print(confusion_matrix(y_test,predictions_xgbc))\n",
    "#CONFUSION MATRIX:\n",
    "# [[115131      0]\n",
    "#[  4600 109677]] "
   ]
  },
  {
   "cell_type": "markdown",
   "metadata": {},
   "source": [
    "### XGBoost model is performing best. No misclassification for negative sample as positive."
   ]
  },
  {
   "cell_type": "markdown",
   "metadata": {},
   "source": [
    "## 14. Do you think using AdaBoost can give any significant improvement over XGBoost?"
   ]
  },
  {
   "cell_type": "code",
   "execution_count": 53,
   "metadata": {},
   "outputs": [],
   "source": [
    "adaBoost = AdaBoostClassifier(n_estimators=50, learning_rate=1, random_state=0)\n",
    "\n",
    "# Train Adaboost Classifer\n",
    "model1 = adaBoost.fit(x_train, y_train)\n",
    "\n",
    "#Predict the response for test dataset\n",
    "y_pred_ada = model1.predict(x_test)\n"
   ]
  },
  {
   "cell_type": "code",
   "execution_count": 55,
   "metadata": {},
   "outputs": [
    {
     "name": "stdout",
     "output_type": "stream",
     "text": [
      "\n",
      " CONFUSION MATRIX:\n",
      "  [[114699    432]\n",
      " [  7865 106412]] \n",
      "\n",
      "FPR:  0.004\n",
      "TPR/ RECALL/ SENSTIVITY:  0.931\n",
      "PRECISION: 0.996\n",
      "SPECIFICITY:  0.996\n",
      "ACCURACY:  0.964\n",
      "ROC AUC:  0.964\n",
      "Cohens kappa:  0.928\n",
      "F1 score:  0.962\n",
      "\n",
      " CLASSIFICATION REPORT: \n",
      "               precision    recall  f1-score   support\n",
      "\n",
      "           0       0.94      1.00      0.97    115131\n",
      "           1       1.00      0.93      0.96    114277\n",
      "\n",
      "   micro avg       0.96      0.96      0.96    229408\n",
      "   macro avg       0.97      0.96      0.96    229408\n",
      "weighted avg       0.97      0.96      0.96    229408\n",
      "\n"
     ]
    },
    {
     "data": {
      "text/plain": [
       "array([0, 0, 0, ..., 1, 1, 1], dtype=int64)"
      ]
     },
     "execution_count": 55,
     "metadata": {},
     "output_type": "execute_result"
    }
   ],
   "source": [
    "accuracy_result(y_test, y_pred_ada)\n",
    "y_test"
   ]
  },
  {
   "cell_type": "markdown",
   "metadata": {},
   "source": [
    "### No improvement in AdaBoost model result because In my case XGBoost model giving much more better result (Accuracy and F1 score) in compare to AdaBoost model."
   ]
  },
  {
   "cell_type": "code",
   "execution_count": 11,
   "metadata": {},
   "outputs": [],
   "source": [
    "pickle.dump(model1 , open('claim.pkl', 'wb'))"
   ]
  },
  {
   "cell_type": "markdown",
   "metadata": {},
   "source": [
    "## 15. MLPClassifier is the neural network we are trying. But how to choose the right no. of layers and size"
   ]
  },
  {
   "cell_type": "code",
   "execution_count": null,
   "metadata": {},
   "outputs": [],
   "source": [
    "check_parameters = {\n",
    "    'hidden_layer_sizes': [(50,50), (100,50)],\n",
    "    'activation': ['tanh', 'relu'],\n",
    "    'solver': ['sgd', 'adam'],\n",
    "    'alpha': [0.0001, 0.05],\n",
    "    'learning_rate': ['constant','adaptive'],\n",
    "}"
   ]
  },
  {
   "cell_type": "code",
   "execution_count": null,
   "metadata": {},
   "outputs": [],
   "source": [
    "gridsearchcv = GridSearchCV(mlpclassifier, check_parameters, n_jobs=-1, cv=3)\n",
    "gridsearchcv.fit(X_train, y_train)"
   ]
  },
  {
   "cell_type": "code",
   "execution_count": 44,
   "metadata": {},
   "outputs": [
    {
     "name": "stderr",
     "output_type": "stream",
     "text": [
      "C:\\Users\\vikas.maurya\\AppData\\Local\\Continuum\\anaconda3\\lib\\site-packages\\sklearn\\neural_network\\multilayer_perceptron.py:562: ConvergenceWarning: Stochastic Optimizer: Maximum iterations (200) reached and the optimization hasn't converged yet.\n",
      "  % self.max_iter, ConvergenceWarning)\n"
     ]
    },
    {
     "name": "stdout",
     "output_type": "stream",
     "text": [
      "\n",
      " CONFUSION MATRIX:\n",
      "  [[114558    573]\n",
      " [ 15663  98614]] \n",
      "\n",
      "FPR:  0.005\n",
      "TPR/ RECALL/ SENSTIVITY:  0.863\n",
      "PRECISION: 0.994\n",
      "SPECIFICITY:  0.995\n",
      "ACCURACY:  0.929\n",
      "ROC AUC:  0.929\n",
      "Cohens kappa:  0.858\n",
      "F1 score:  0.924\n",
      "\n",
      " CLASSIFICATION REPORT: \n",
      "               precision    recall  f1-score   support\n",
      "\n",
      "           0       0.88      1.00      0.93    115131\n",
      "           1       0.99      0.86      0.92    114277\n",
      "\n",
      "   micro avg       0.93      0.93      0.93    229408\n",
      "   macro avg       0.94      0.93      0.93    229408\n",
      "weighted avg       0.94      0.93      0.93    229408\n",
      "\n"
     ]
    }
   ],
   "source": [
    "mlp = MLPClassifier(hidden_layer_sizes=(10, 10, 10),activation='logistic', max_iter=200)\n",
    "mlp.fit(x_train, y_train)\n",
    "\n",
    "# Prediction on x_test\n",
    "predictions_mlp=mlp.predict(x_test)\n",
    "accuracy_result(y_test,predictions_mlp)"
   ]
  },
  {
   "cell_type": "markdown",
   "metadata": {},
   "source": [
    "### In Generally, you can't analytically calculate the number of layers or the number of nodes to use per layer in an ANN to address a specific real-world predictive modeling problem, But there are many methods for determining the correct number of neurons to use in the hidden layers, such as the following:\n",
    "\n",
    "### The no. of hidden neurons should be between the size of the input layer and the size of the output layer.\n",
    "### The no. of hidden neurons should be 2/3 the size of the input layer, plus the size of the output layer.\n",
    "### The no. of hidden neurons should be less than twice the size of the input layer."
   ]
  },
  {
   "cell_type": "markdown",
   "metadata": {},
   "source": [
    "## 16. At what layer size we get the best f1-score?"
   ]
  },
  {
   "cell_type": "code",
   "execution_count": null,
   "metadata": {},
   "outputs": [],
   "source": [
    "print(\"After Applying HyperParameter Tuning At layer 10,I am getting accuracy around 93%\")"
   ]
  },
  {
   "cell_type": "markdown",
   "metadata": {},
   "source": [
    "## 17.Help the management decide which model to signoff and help the management take informed decision based on the evaluation metrics –explain in brief the pros-cons of the best 3 models"
   ]
  },
  {
   "cell_type": "code",
   "execution_count": 68,
   "metadata": {},
   "outputs": [
    {
     "data": {
      "text/plain": [
       "'\\nLog_Reg(Before Resamp)\\n\\n               precision    recall  f1-score   support\\n\\n           0       0.96      1.00      0.98    114665\\n           1       0.00      0.00      0.00      4378\\n            \\nLog_Reg(After Resamp)\\n                precision    recall  f1-score   support\\n\\n           0       0.58      0.61      0.60    115131\\n           1       0.59      0.56      0.58    114277\\nSVC        \\n              precision    recall  f1-score   support\\n\\n           0       0.58      0.61      0.60    115131\\n           1       0.59      0.56      0.57    114277\\nXGBoost   \\n                 precision    recall  f1-score   support\\n\\n           0       0.96      1.00      0.98    115131\\n           1       1.00      0.96      0.98    114277\\nAdaBoost\\n                 precision    recall  f1-score   support\\n\\n           0       0.94      1.00      0.97    115131\\n           1       1.00      0.93      0.96    114277\\nMLPClassifier\\n                precision    recall  f1-score   support\\n\\n           0       0.88      1.00      0.93    115131\\n           1       0.99      0.86      0.92    114277\\n'"
      ]
     },
     "execution_count": 68,
     "metadata": {},
     "output_type": "execute_result"
    }
   ],
   "source": [
    "\n",
    "'''\n",
    "Log_Reg(Before Resamp)\n",
    "\n",
    "               precision    recall  f1-score   support\n",
    "\n",
    "           0       0.96      1.00      0.98    114665\n",
    "           1       0.00      0.00      0.00      4378\n",
    "            \n",
    "Log_Reg(After Resamp)\n",
    "                precision    recall  f1-score   support\n",
    "\n",
    "           0       0.58      0.61      0.60    115131\n",
    "           1       0.59      0.56      0.58    114277\n",
    "SVC        \n",
    "              precision    recall  f1-score   support\n",
    "\n",
    "           0       0.58      0.61      0.60    115131\n",
    "           1       0.59      0.56      0.57    114277\n",
    "XGBoost   \n",
    "                 precision    recall  f1-score   support\n",
    "\n",
    "           0       0.96      1.00      0.98    115131\n",
    "           1       1.00      0.96      0.98    114277\n",
    "AdaBoost\n",
    "                 precision    recall  f1-score   support\n",
    "\n",
    "           0       0.94      1.00      0.97    115131\n",
    "           1       1.00      0.93      0.96    114277\n",
    "MLPClassifier\n",
    "                precision    recall  f1-score   support\n",
    "\n",
    "           0       0.88      1.00      0.93    115131\n",
    "           1       0.99      0.86      0.92    114277\n",
    "'''"
   ]
  },
  {
   "cell_type": "code",
   "execution_count": 70,
   "metadata": {},
   "outputs": [
    {
     "data": {
      "text/html": [
       "<div>\n",
       "<style scoped>\n",
       "    .dataframe tbody tr th:only-of-type {\n",
       "        vertical-align: middle;\n",
       "    }\n",
       "\n",
       "    .dataframe tbody tr th {\n",
       "        vertical-align: top;\n",
       "    }\n",
       "\n",
       "    .dataframe thead th {\n",
       "        text-align: right;\n",
       "    }\n",
       "</style>\n",
       "<table border=\"1\" class=\"dataframe\">\n",
       "  <thead>\n",
       "    <tr style=\"text-align: right;\">\n",
       "      <th></th>\n",
       "      <th>F1_score</th>\n",
       "      <th>Accuracy</th>\n",
       "    </tr>\n",
       "  </thead>\n",
       "  <tbody>\n",
       "    <tr>\n",
       "      <th>Log_Reg(Before Resamp)</th>\n",
       "      <td>0.0</td>\n",
       "      <td>96.3</td>\n",
       "    </tr>\n",
       "    <tr>\n",
       "      <th>Log_Reg(After Resamp)</th>\n",
       "      <td>58.0</td>\n",
       "      <td>57.8</td>\n",
       "    </tr>\n",
       "    <tr>\n",
       "      <th>SVC</th>\n",
       "      <td>57.0</td>\n",
       "      <td>57.8</td>\n",
       "    </tr>\n",
       "    <tr>\n",
       "      <th>XGBoost</th>\n",
       "      <td>98.0</td>\n",
       "      <td>98.0</td>\n",
       "    </tr>\n",
       "    <tr>\n",
       "      <th>AdaBoost</th>\n",
       "      <td>96.0</td>\n",
       "      <td>96.4</td>\n",
       "    </tr>\n",
       "    <tr>\n",
       "      <th>MLPClassifier</th>\n",
       "      <td>92.0</td>\n",
       "      <td>92.9</td>\n",
       "    </tr>\n",
       "  </tbody>\n",
       "</table>\n",
       "</div>"
      ],
      "text/plain": [
       "                        F1_score  Accuracy\n",
       "Log_Reg(Before Resamp)       0.0      96.3\n",
       "Log_Reg(After Resamp)       58.0      57.8\n",
       "SVC                         57.0      57.8\n",
       "XGBoost                     98.0      98.0\n",
       "AdaBoost                    96.0      96.4\n",
       "MLPClassifier               92.0      92.9"
      ]
     },
     "execution_count": 70,
     "metadata": {},
     "output_type": "execute_result"
    }
   ],
   "source": [
    "data = {'Log_Reg(Before Resamp)':[0,96.3],\n",
    "        'Log_Reg(After Resamp)':[58,57.8],\n",
    "        'SVC':[57,57.8],\n",
    "        'XGBoost':[98,98],\n",
    "        'AdaBoost':[96,96.4],\n",
    "        'MLPClassifier':[92,92.9]\n",
    "        }\n",
    "\n",
    "df_result=pd.DataFrame(data, index = ['F1_score', 'Accuracy']).T\n",
    "print(df_result)"
   ]
  },
  {
   "cell_type": "markdown",
   "metadata": {},
   "source": [
    "### After observing the above table I can suggest the management to go for the XGBoost ,since it is giving very High Accuracy and F-1 Score"
   ]
  },
  {
   "cell_type": "markdown",
   "metadata": {},
   "source": [
    "## 18.Flask website that holds the final predictive model (give some sample examples where the model is able to predict different outputs based on changes input parameter)"
   ]
  },
  {
   "cell_type": "code",
   "execution_count": null,
   "metadata": {},
   "outputs": [
    {
     "name": "stderr",
     "output_type": "stream",
     "text": [
      " * Running on http://localhost:9000/ (Press CTRL+C to quit)\n",
      "127.0.0.1 - - [29/Jan/2021 23:34:38] \"GET / HTTP/1.1\" 200 -\n",
      "127.0.0.1 - - [29/Jan/2021 23:34:38] \"GET /static/css2/style.css HTTP/1.1\" 404 -\n",
      "127.0.0.1 - - [29/Jan/2021 23:34:39] \"GET /.js/materialize.js HTTP/1.1\" 404 -\n",
      "127.0.0.1 - - [29/Jan/2021 23:34:39] \"GET /js/init.js HTTP/1.1\" 404 -\n",
      "127.0.0.1 - - [29/Jan/2021 23:36:54] \"POST /predict HTTP/1.1\" 200 -\n",
      "127.0.0.1 - - [29/Jan/2021 23:36:54] \"GET /static/css2/style.css HTTP/1.1\" 404 -\n"
     ]
    },
    {
     "name": "stdout",
     "output_type": "stream",
     "text": [
      "[1, 0, 3, 3, 3, 3, 1, 5, 5, 7, 0, 0, 0, 10, 0, 0, 0, 1, 10, 10, 10, 0, 10, 1, 1, 0, 1, 1, 0, 1, 1, 0, 1, 0, 1, 0, 0, 1, 3, 10, 2, 10, 101, 0, 1, 0, 0, 0, 1, 2, 0, 1, 2, 0, 2, 10, 0]\n",
      "[array([  1,   0,   3,   3,   3,   3,   1,   5,   5,   7,   0,   0,   0,\n",
      "        10,   0,   0,   0,   1,  10,  10,  10,   0,  10,   1,   1,   0,\n",
      "         1,   1,   0,   1,   1,   0,   1,   0,   1,   0,   0,   1,   3,\n",
      "        10,   2,  10, 101,   0,   1,   0,   0,   0,   1,   2,   0,   1,\n",
      "         2,   0,   2,  10,   0])]\n",
      "[0]\n"
     ]
    },
    {
     "name": "stderr",
     "output_type": "stream",
     "text": [
      "127.0.0.1 - - [29/Jan/2021 23:36:54] \"GET /.js/materialize.js HTTP/1.1\" 404 -\n",
      "127.0.0.1 - - [29/Jan/2021 23:36:54] \"GET /js/init.js HTTP/1.1\" 404 -\n"
     ]
    }
   ],
   "source": [
    "model = pickle.load(open('claim.pkl', 'rb'))\n",
    "\n",
    "app = Flask(__name__)\n",
    "\n",
    "\n",
    "@app.route('/')\n",
    "def hello_world():\n",
    "    return render_template(\"auto_insurance_claim.html\")\n",
    "\n",
    "\n",
    "\n",
    "@app.route('/predict',methods=['POST','GET'])\n",
    "def predict():\n",
    "    int_features=[int(x) for x in request.form.values()]\n",
    "    final=[np.array(int_features)]\n",
    "    print(int_features)\n",
    "    print(final)\n",
    "    prediction=model.predict(final)\n",
    "    print(prediction)\n",
    "\n",
    "    if prediction==0:\n",
    "        return render_template('auto_insurance_claim.html',pred=\"Owner will not initiate an auto insurance claim for next year\")\n",
    "    else:\n",
    "        return render_template('auto_insurance_claim.html',pred=\"Owner will initiate an auto insurance claim for next year\")\n",
    "\n",
    "\n",
    "\n",
    "if __name__ == \"__main__\":\n",
    "    from werkzeug.serving import run_simple\n",
    "    run_simple('localhost', 9000, app)\n",
    "    #app.run(port=1234,debug=True)\n"
   ]
  },
  {
   "cell_type": "code",
   "execution_count": null,
   "metadata": {},
   "outputs": [],
   "source": []
  },
  {
   "cell_type": "code",
   "execution_count": null,
   "metadata": {},
   "outputs": [],
   "source": []
  },
  {
   "cell_type": "markdown",
   "metadata": {},
   "source": [
    "## 19. Can you showcase to the management,what changes in the parameter can help improve the profit, what is the likelihood of profit boost that can be expected after deploying the model"
   ]
  },
  {
   "cell_type": "code",
   "execution_count": 4,
   "metadata": {},
   "outputs": [],
   "source": [
    "temp = data[:200000]\n",
    "_X = temp.drop(['id','target'],axis =1)\n",
    "_y=temp.target\n",
    "clf=RandomForestClassifier(n_estimators=100)\n",
    "clf.fit(_X , _y)\n",
    "\n",
    "feature_imp = pd.Series(clf.feature_importances_,index=_X.columns).sort_values(ascending=False)\n",
    "imp = pd.DataFrame(feature_imp).reset_index()\n",
    "imp.columns = [\"Features\", 'Imp']\n",
    "\n",
    "imp['Imp'] = (imp['Imp']/max(imp['Imp']))*100\n",
    "col = imp[imp[\"Imp\"]>25]['Features'].tolist()"
   ]
  },
  {
   "cell_type": "code",
   "execution_count": 5,
   "metadata": {},
   "outputs": [
    {
     "data": {
      "image/png": "[encoded data removed]",
      "text/plain": [
       "<Figure size 1440x504 with 1 Axes>"
      ]
     },
     "metadata": {
      "needs_background": "light"
     },
     "output_type": "display_data"
    }
   ],
   "source": [
    "# Creating a bar plot\n",
    "plt.figure(figsize = (20,7))\n",
    "sns.barplot(x=_X.columns, y=imp.Imp)\n",
    "plt.xlabel('Feature Importance Score')\n",
    "plt.ylabel('Features')\n",
    "plt.title(\"Visualizing Important Features\")\n",
    "plt.show()"
   ]
  },
  {
   "cell_type": "markdown",
   "metadata": {},
   "source": [
    "#### Top 10 ordered important features,This feature can be key since auto insurance claim is highly dependent on this.If company improve on this below parameters,it will be more profitable to the business."
   ]
  },
  {
   "cell_type": "code",
   "execution_count": 6,
   "metadata": {},
   "outputs": [
    {
     "name": "stdout",
     "output_type": "stream",
     "text": [
      "0        ps_car_13\n",
      "1        ps_reg_03\n",
      "2        ps_car_14\n",
      "3       ps_calc_14\n",
      "4       ps_calc_10\n",
      "5       ps_calc_11\n",
      "6    ps_car_11_cat\n",
      "7        ps_ind_15\n",
      "8        ps_ind_03\n",
      "9       ps_calc_02\n",
      "Name: Features, dtype: object\n"
     ]
    }
   ],
   "source": [
    "print(imp[:10].Features);"
   ]
  },
  {
   "cell_type": "markdown",
   "metadata": {},
   "source": [
    "#### After deploying the model customer can self evaluate his/her self, which will create a positive image of company in the customer's eyes.Customer will start trusting this company and it will create more number of insurance claim,Which Evantully boost  the profit of the company"
   ]
  },
  {
   "cell_type": "code",
   "execution_count": null,
   "metadata": {},
   "outputs": [],
   "source": []
  },
  {
   "cell_type": "markdown",
   "metadata": {},
   "source": [
    "# Conclusion"
   ]
  },
  {
   "cell_type": "markdown",
   "metadata": {},
   "source": [
    "## Since I am limited in time,I am able to apply limited number of algorithms in which XGBoost is the best one."
   ]
  },
  {
   "cell_type": "markdown",
   "metadata": {},
   "source": [
    "## We can apply various other models and apply different technique to reduce the number of features to get higher Accuracy or Better Model."
   ]
  },
  {
   "cell_type": "markdown",
   "metadata": {},
   "source": [
    "## I learned Exploratory Data Analysis ,Data Visualization and Machine Learning Modeling"
   ]
  }
 ],
 "metadata": {
  "kernelspec": {
   "display_name": "Python 3",
   "language": "python",
   "name": "python3"
  },
  "language_info": {
   "codemirror_mode": {
    "name": "ipython",
    "version": 3
   },
   "file_extension": ".py",
   "mimetype": "text/x-python",
   "name": "python",
   "nbconvert_exporter": "python",
   "pygments_lexer": "ipython3",
   "version": "3.7.3"
  }
 },
 "nbformat": 4,
 "nbformat_minor": 2
}
